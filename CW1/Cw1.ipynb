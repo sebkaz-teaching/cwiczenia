{
 "cells": [
  {
   "cell_type": "markdown",
   "id": "dfc09e52-adab-452e-bc08-28d6eb4cf88c",
   "metadata": {},
   "source": [
    "# REST API z wykorzystaniem biblioteki Flask \n",
    "\n",
    "Aplikacja ta ma na celu realizację połączenia Client-Serwer\n",
    "\n",
    "1. Utwórz nowy katalog `docker` i przejdź do katalogu.\n",
    "\n",
    "```bash\n",
    "mkdir docker\n",
    "cd docker\n",
    "```\n",
    "\n",
    "3. Utwórz nowy plik `app.py`, który zawierać będzie kod naszej aplikacji www.\n",
    "   \n",
    "5. Zweryfikuj werjsę biblioteki Flask w swoim środowisku python - użyj pip list oraz narzędzia grep\n",
    "   \n",
    "6. Przykładowy kod aplikacji znajdziesz na stronie https://flask.palletsprojects.com/en/3.0.x/quickstart/\n",
    "Zweryfikuj, czy kod zawiera polecenie uruchamiające serwer:\n",
    "```python\n",
    "if __name__ == '__main__':\n",
    "    app.run()\n",
    "```\n",
    "\n",
    "Wprowadź przykładowy kod prostej aplikacji do pliku app.py\n",
    "\n",
    "5. Uruchom polecenie\n",
    "\n",
    "```bash\n",
    "python app.py\n",
    "```\n",
    "Jeśli w kodzie nie ma polecenia uruchamiającego serwer, można wykrzystać polecenie (zgodnie z instrukcją)\n",
    "```bash\n",
    "python -m flask run\n",
    "```\n",
    "\n",
    "6. W nowym terminalu uruchom\n",
    "```bash\n",
    "curl localhost:5000\n",
    "```"
   ]
  },
  {
   "cell_type": "markdown",
   "id": "82267c9c-86ab-4f9f-95c3-50b5e7d21f2c",
   "metadata": {},
   "source": [
    "Biblioteka flask realizuje dodawanie podstron i komuniakcję z serwerem za pomocą funkcji przykrytych dekoratorem. Przykład decoratora:\n",
    "\n",
    "1. definiujemy funkcję, której parametrem może być funkcja\n",
    "2. definiujemy wewnętrzną funkcję (wszystko jest obiektem), która uruchamia funkcję z parametru i wyświetla info o jej działaniu"
   ]
  },
  {
   "cell_type": "markdown",
   "id": "7177a164-7923-4149-a0f9-a880bc0bc10d",
   "metadata": {},
   "source": [
    "> Zadanie: Utwórz i zrealizuj kod dekoratora \n",
    "> Funkcje poda prowadzący ćwiczenia"
   ]
  },
  {
   "cell_type": "code",
   "execution_count": null,
   "id": "47edf9d7-401b-4cf6-8716-69553c9626ab",
   "metadata": {},
   "outputs": [],
   "source": [
    "# TWOJ KOD "
   ]
  },
  {
   "cell_type": "code",
   "execution_count": null,
   "id": "4e5b7d26-1085-4285-a005-af1021ff15b3",
   "metadata": {},
   "outputs": [],
   "source": []
  },
  {
   "cell_type": "code",
   "execution_count": null,
   "id": "ede0afc2-f6c5-4a17-b3ce-9be88e67b167",
   "metadata": {},
   "outputs": [],
   "source": [
    "import subprocess\n",
    "import requests"
   ]
  },
  {
   "cell_type": "code",
   "execution_count": null,
   "id": "bf8b6e54-7439-4648-a24d-658daef483cb",
   "metadata": {},
   "outputs": [],
   "source": [
    "%%file app1.py\n",
    "\n",
    "from flask import Flask\n",
    "\n",
    "# Create a flask\n",
    "app = Flask(__name__)\n",
    "\n",
    "# Create an API end point\n",
    "@app.route('/hello')\n",
    "def say_hello():\n",
    "    return \"Hello World\"\n",
    "\n",
    "@app.route('/')\n",
    "def say_he():\n",
    "    return \"Hello z innej strony\"\n",
    "\n",
    "if __name__ == '__main__':\n",
    "    app.run()"
   ]
  },
  {
   "cell_type": "code",
   "execution_count": null,
   "id": "dad8c3f6-eaf6-46da-aa26-a329d6adffc8",
   "metadata": {},
   "outputs": [],
   "source": [
    "# uruchom proces \n",
    "p = subprocess.Popen([\"python\", \"app1.py\"])"
   ]
  },
  {
   "cell_type": "code",
   "execution_count": null,
   "id": "6c7dcad3-8328-473a-8f00-f6edb8a0204b",
   "metadata": {},
   "outputs": [],
   "source": [
    "adres_url = \"http://127.0.0.1:5000/hello\"\n",
    "response = requests.get(adres_url)\n",
    "\n",
    "# pobierz pole content z obiektu response\n",
    "\n",
    "# TWOJ KOD TUTAJ \n"
   ]
  },
  {
   "cell_type": "code",
   "execution_count": null,
   "id": "2b936f88-b1a1-483f-99af-b6a99fc2511c",
   "metadata": {},
   "outputs": [],
   "source": [
    "# podaj adres url który nie jest zdefiniowany w kodzie serwera \n",
    "\n",
    "adres_url = \" \"\n",
    "\n",
    "response = requests.get(adres_url)\n",
    "\n",
    "# TWOJ KOD POBIERAJĄCY ODPOWIEDŹ jeśli pole status_code ma wartość 200\n",
    "\n"
   ]
  },
  {
   "cell_type": "markdown",
   "id": "c478c5ae-97e9-4fc4-8d75-0e1e16a2b1da",
   "metadata": {},
   "source": [
    "Wykorzystaj metodę `kill()`  do obiektu `p` w celu zamknięcia procesu"
   ]
  },
  {
   "cell_type": "code",
   "execution_count": null,
   "id": "6762223b-fab9-4309-a973-951ac842b91d",
   "metadata": {},
   "outputs": [],
   "source": [
    "# TWOJ KOD\n",
    "\n"
   ]
  },
  {
   "cell_type": "code",
   "execution_count": null,
   "id": "d6e2b9fb-464c-4885-a7b3-9195db6c70b7",
   "metadata": {},
   "outputs": [],
   "source": [
    "# sprawdz czy po zabiciu procesu nadal się on uruchamia\n",
    "response = ...\n"
   ]
  },
  {
   "cell_type": "markdown",
   "id": "44ab6d42-ce2e-4b71-bba0-96375e1a9adb",
   "metadata": {},
   "source": [
    "## Przekazywanie parametrów metodą GET z wykorzystaniem adresu url"
   ]
  },
  {
   "cell_type": "code",
   "execution_count": null,
   "id": "691f61e9-8768-4704-b0f5-fdd15eca6f95",
   "metadata": {},
   "outputs": [],
   "source": [
    "%%file app2.py\n",
    "\n",
    "from flask import Flask\n",
    "from flask import request\n",
    "\n",
    "# Create a flask\n",
    "app = Flask(__name__)\n",
    "\n",
    "# Create an API end point\n",
    "@app.route('/hello', methods=['GET'])\n",
    "def say_hello():\n",
    "    name = request.args.get(\"name\", \"\") # tutaj leci str\n",
    "    title = request.args.get(\"title\", \"\")\n",
    "    if name:\n",
    "        resp = f\"Hello {title} {name}\" if title else f\"Hello {name}\"\n",
    "    else:\n",
    "        resp = f\"Hello {title}\" if title else \"Hello\"\n",
    "    return resp\n",
    "\n",
    "if __name__ == '__main__':\n",
    "    app.run(port=5005)"
   ]
  },
  {
   "cell_type": "code",
   "execution_count": null,
   "id": "b01a6373-06ef-470b-a2da-9d771b2676a2",
   "metadata": {},
   "outputs": [],
   "source": [
    "p = subprocess.Popen([\"python\", \"app2.py\"])"
   ]
  },
  {
   "cell_type": "code",
   "execution_count": null,
   "id": "9b53a163-6acf-4439-a938-1c5388de6efa",
   "metadata": {},
   "outputs": [],
   "source": [
    "response = requests.get(\"http://127.0.0.1:5005/hello\")\n",
    "response.content"
   ]
  },
  {
   "cell_type": "markdown",
   "id": "e036556c-5746-4d9d-84a0-ee6c55ad472f",
   "metadata": {},
   "source": [
    "dodaj zmienną do adresu wpisując `?name=....`"
   ]
  },
  {
   "cell_type": "code",
   "execution_count": null,
   "id": "d19f808f-5fe5-4273-9a4c-f30f427c49d7",
   "metadata": {},
   "outputs": [],
   "source": [
    "response = requests.get(\"http://127.0.0.1:5005/hello?name=Sebastian\")\n",
    "response.content"
   ]
  },
  {
   "cell_type": "markdown",
   "id": "269800f9-4135-4558-afaf-986bafa43474",
   "metadata": {},
   "source": [
    "Aby zamiast tekstu zwrócić json możesz wykorzystać \n",
    "\n",
    "```python\n",
    "from flask import jsonify\n",
    "\n",
    "def moja_f():\n",
    "    ...\n",
    "    return jsonify(reponse=resp)"
   ]
  },
  {
   "cell_type": "markdown",
   "id": "d7ff338a-77fe-43eb-b98e-36b6df91c3c7",
   "metadata": {},
   "source": [
    "Ciekawym i bardziej funkcyjnym rozwiązaniem dla modeli ML jest biblioteka [litServe](https://lightning.ai/litserve)\n",
    "\n",
    "\n",
    "Zauważ pipeline, który jest zapisany w sposób funkcyjny. "
   ]
  },
  {
   "cell_type": "code",
   "execution_count": 4,
   "id": "389512cc-55fe-43e6-b0d5-a627e60399a7",
   "metadata": {},
   "outputs": [
    {
     "name": "stdout",
     "output_type": "stream",
     "text": [
      "Overwriting app_lit.py\n"
     ]
    }
   ],
   "source": [
    "%%file app_lit.py\n",
    "import litserve as ls\n",
    "\n",
    "class SimpleLitAPI(ls.LitAPI):\n",
    "    def setup(self, device):\n",
    "        self.model1 = lambda x: x**2\n",
    "        self.model2 = lambda x: x**3\n",
    "\n",
    "    def decode_request(self, request):\n",
    "        return request[\"input\"]\n",
    "\n",
    "    def predict(self, x):\n",
    "        squared = self.model1(x)\n",
    "        cubed = self.model2(x)\n",
    "        output = squared + cubed\n",
    "        return {\"output\": output}\n",
    "\n",
    "    def encode_response(self, output):\n",
    "        return {\"output\": output}\n",
    "\n",
    "if __name__ == \"__main__\":\n",
    "    api = SimpleLitAPI()\n",
    "    server = ls.LitServer(api)\n",
    "    server.run(port=5001)"
   ]
  },
  {
   "cell_type": "code",
   "execution_count": 3,
   "id": "e342adbc-7fbd-4b74-83c6-ebede2481cad",
   "metadata": {},
   "outputs": [],
   "source": [
    "!pip install uvicorn fastapi litserve -q"
   ]
  },
  {
   "cell_type": "code",
   "execution_count": 5,
   "id": "d5046dd1-e616-4818-9d11-1a8db49dc7b6",
   "metadata": {},
   "outputs": [],
   "source": [
    "import subprocess\n",
    "\n",
    "p = subprocess.Popen([\"python\", \"app_lit.py\"])"
   ]
  },
  {
   "cell_type": "code",
   "execution_count": 6,
   "id": "6d3275a5-a7a8-4b0f-95bc-b0343d93bd9c",
   "metadata": {},
   "outputs": [
    {
     "name": "stdout",
     "output_type": "stream",
     "text": [
      "Status: 200\n",
      "Response:\n",
      " {\"output\":{\"output\":80.0}}\n"
     ]
    }
   ],
   "source": [
    "import requests\n",
    "\n",
    "response = requests.post(\"http://127.0.0.1:5001/predict\", json={\"input\": 4.0})\n",
    "print(f\"Status: {response.status_code}\\nResponse:\\n {response.text}\")"
   ]
  },
  {
   "cell_type": "code",
   "execution_count": 7,
   "id": "85c0ee54-a270-434d-866d-2f5c825a60d8",
   "metadata": {},
   "outputs": [],
   "source": [
    "p.kill()"
   ]
  },
  {
   "cell_type": "markdown",
   "id": "80ba5458-16bc-414b-b111-2593bc5bf0ca",
   "metadata": {},
   "source": [
    "# konteneryzacja \n",
    "\n",
    "## Plik aplikacji app.py"
   ]
  },
  {
   "cell_type": "code",
   "execution_count": null,
   "id": "b309ddcd-928e-4a2d-b75c-df6f38b07571",
   "metadata": {},
   "outputs": [],
   "source": [
    "%%file app.py\n",
    "\n",
    "from flask import Flask\n",
    "\n",
    "app = Flask(__name__)\n",
    "\n",
    "@app.route('/')\n",
    "def hello():\n",
    "    return \"<h1>hello world</h1>\"\n",
    "\n",
    "if __name__ == '__main__':\n",
    "    app.run(host='0.0.0.0', port=5000)"
   ]
  },
  {
   "cell_type": "markdown",
   "id": "628ef804-2455-43d6-9ec6-f6d82e223944",
   "metadata": {},
   "source": [
    "## plik requirements.txt w którym zamieścimy potrzebne biblioteki"
   ]
  },
  {
   "cell_type": "code",
   "execution_count": null,
   "id": "c10cfb26-18b6-4c06-86d7-2c9c6e379ede",
   "metadata": {},
   "outputs": [],
   "source": [
    "%%file requirements.txt\n",
    "Flask==3.0.1"
   ]
  },
  {
   "cell_type": "markdown",
   "id": "f8b5d0d3-7908-47e3-8935-bc1705ea88e3",
   "metadata": {},
   "source": [
    "## Dockerfile \n",
    "- pobranie obrazu systemu z pythonem\n",
    "- kopia pliku z wymaganymi bibliotekami\n",
    "- instalacja wymaganych bibliotek w środowisku\n",
    "- skopiowanie pliku aplikacji\n",
    "- uruchomienie aplikacji"
   ]
  },
  {
   "cell_type": "code",
   "execution_count": null,
   "id": "d83abe15-0c35-4f93-90e1-9df59254cc24",
   "metadata": {},
   "outputs": [],
   "source": [
    "%%file Dockerfile\n",
    "FROM python:3.11-slim-buster\n",
    "\n",
    "WORKDIR /app\n",
    "\n",
    "COPY requirements.txt requirements.txt\n",
    "\n",
    "RUN pip install -r requirements.txt\n",
    "\n",
    "COPY app.py .\n",
    "\n",
    "ENV FLASK_APP=app\n",
    "\n",
    "EXPOSE 5000\n",
    "CMD [\"flask\", \"run\", \"--host\", \"0.0.0.0\", \"--port\", \"5000\"]"
   ]
  },
  {
   "cell_type": "markdown",
   "id": "37b06e5d-07c2-4b54-b16f-9ecacd1b4ad7",
   "metadata": {},
   "source": [
    "```bash\n",
    "docker build -t test_hello .\n",
    "\n",
    "docker run -p 5000:5000 test_hello\n",
    "```"
   ]
  }
 ],
 "metadata": {
  "kernelspec": {
   "display_name": "Python 3 (ipykernel)",
   "language": "python",
   "name": "python3"
  },
  "language_info": {
   "codemirror_mode": {
    "name": "ipython",
    "version": 3
   },
   "file_extension": ".py",
   "mimetype": "text/x-python",
   "name": "python",
   "nbconvert_exporter": "python",
   "pygments_lexer": "ipython3",
   "version": "3.11.6"
  }
 },
 "nbformat": 4,
 "nbformat_minor": 5
}
