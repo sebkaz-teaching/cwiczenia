{
 "cells": [
  {
   "cell_type": "markdown",
   "id": "b7c2acc3-e78f-4a6c-8447-db245a8da285",
   "metadata": {},
   "source": [
    "# **Creating an API with Flask – Introduction**\n",
    "\n",
    "In this exercise, you will learn how to create a simple API in Flask, run it, send requests to it, and use a decision model based on a basic logical rule.\n",
    "\n",
    "## **1️⃣ Creating a Basic API**\n",
    "\n",
    "First, we will create a basic Flask application.\n",
    "\n",
    "### Saving the API Code to a File\n",
    "\n",
    "In Jupyter Notebook, use the magic command %%file to save the basic Flask application code to a file named app.py. You can find the code at [lab1](https://sebkaz-teaching.github.io/RTA_2025/cw1.html).\n",
    "\n",
    "For the main page text, use Welcome to my API!."
   ]
  },
  {
   "cell_type": "code",
   "execution_count": null,
   "id": "14c37263-583c-4c57-9454-7d1d93269999",
   "metadata": {},
   "outputs": [
    {
     "name": "stdout",
     "output_type": "stream",
     "text": [
      "Writing app.py\n"
     ]
    }
   ],
   "source": [
    "%%file app.py\n",
    "###\n",
    "# YOUR CODE HERE\n",
    "###"
   ]
  },
  {
   "cell_type": "markdown",
   "id": "e2af6c95-3ee1-41c3-8781-50e1b80f2f17",
   "metadata": {},
   "source": [
    "Now, start the API in the terminal by typing:\n",
    "```sh\n",
    "python app.py\n",
    "```\n",
    "Flask will start the server locally at `http://127.0.0.1:5000/`."
   ]
  },
  {
   "cell_type": "markdown",
   "id": "b6dbfd19-a621-45bc-aadf-5cd9a71e6eaf",
   "metadata": {},
   "source": [
    "### Checking API Functionality\n",
    "\n",
    "In Jupyter Notebook, perform a GET request to the homepage. Based on the `status_code` field, write a conditional expression that will display the response content (from the `content` field) if the status_code is 200."
   ]
  },
  {
   "cell_type": "code",
   "execution_count": null,
   "id": "f292293f-29e8-488e-b681-91eef946a0c6",
   "metadata": {},
   "outputs": [],
   "source": [
    "import requests\n",
    "response = #YOUR CODE"
   ]
  },
  {
   "cell_type": "markdown",
   "id": "90f91405-edaf-458c-96b3-1e03c5b6c56b",
   "metadata": {},
   "source": [
    "If everything is working correctly, you will see the message `Welcome to my API!`.\n",
    "---\n",
    "\n",
    "## **2️⃣ Adding a New Subpage**\n",
    "Let’s add a new subpage `mypage` that will return the message `This is my page!`."
   ]
  },
  {
   "cell_type": "code",
   "execution_count": null,
   "id": "901da667-f30f-4520-88e2-981c3cd07845",
   "metadata": {},
   "outputs": [],
   "source": [
    "%%file app.py\n",
    "###\n",
    "# YOUR CODE HERE \n",
    "###"
   ]
  },
  {
   "cell_type": "markdown",
   "id": "e7bb7b21-a725-4de8-b154-2f1484bc97f5",
   "metadata": {},
   "source": [
    "Restart the API and make a request to the page `\"http://127.0.0.1:5000/mypage\"`:"
   ]
  },
  {
   "cell_type": "code",
   "execution_count": null,
   "id": "c3ceade1-8619-4684-ac7c-a1b91bd0e871",
   "metadata": {},
   "outputs": [],
   "source": [
    "response = pass # YOUR CODE HERE"
   ]
  },
  {
   "cell_type": "markdown",
   "id": "a13f3e1e-1689-4e19-9984-54e6e8602b67",
   "metadata": {},
   "source": [
    "You should see: `This is my page!`\n",
    "\n",
    "---\n",
    "\n",
    "## **3️⃣ Automatically Starting the Server from Jupyter Notebook\n",
    "Close the previously started server (`Ctrl+C` in the terminal) and restart it directly from Jupyter Notebook using `subprocess.Popen`:"
   ]
  },
  {
   "cell_type": "code",
   "execution_count": null,
   "id": "b5aef41b-f747-4949-a676-a8b49de88c7f",
   "metadata": {},
   "outputs": [],
   "source": [
    "import subprocess\n",
    "# YOUR CODE \n",
    "server = pass"
   ]
  },
  {
   "cell_type": "markdown",
   "id": "6507101d-4f43-483a-a43d-2c07a3a9d23a",
   "metadata": {},
   "source": [
    "After testing, close the server using the `kill` method:\n"
   ]
  },
  {
   "cell_type": "code",
   "execution_count": null,
   "id": "74fdcc71-fbcb-4602-804b-92458fab18df",
   "metadata": {},
   "outputs": [],
   "source": [
    "# Your code here"
   ]
  },
  {
   "cell_type": "markdown",
   "id": "6a02adf4-8ac0-4e3c-b1ee-0a9e1cc8933f",
   "metadata": {},
   "source": [
    "## **4️⃣ Handling Parameters in the URL**\n",
    "\n",
    "Let’s add a new subpage /hello that will accept a name parameter.\n",
    "\n",
    "Edit app.py by adding the appropriate code.\n"
   ]
  },
  {
   "cell_type": "code",
   "execution_count": null,
   "id": "9e42700e-e83a-4a2b-b4e8-164827a6994f",
   "metadata": {},
   "outputs": [],
   "source": [
    "%%file app.py\n",
    "###\n",
    "# Your Code\n",
    "###"
   ]
  },
  {
   "cell_type": "markdown",
   "id": "bb1f2e04-4bed-4a70-8131-b2f25f343962",
   "metadata": {},
   "source": [
    "Start the server and check the API functionality:\n",
    "```python\n",
    "res1 = requests.get(\"http://127.0.0.1:5000/hello\")\n",
    "print(res1.content)  # Powinno zwrócić \"Hello!\"\n",
    "\n",
    "res2 = requests.get(\"http://127.0.0.1:5000/hello?name=Sebastian\")\n",
    "print(res2.content)  # Powinno zwrócić \"Hello Sebastian!\"\n",
    "```\n",
    "\n",
    "---"
   ]
  },
  {
   "cell_type": "markdown",
   "id": "fc1ae653-8609-49f7-a992-3ff437f96700",
   "metadata": {},
   "source": [
    "## **5️⃣ Creating an API with a Simple ML Model\n",
    "We will create a new subpage /api/v1.0/predict, which accepts two numbers and returns the result of a decision rule:\n",
    "-\tIf the sum of the two numbers is greater than 5.8, it returns 1.\n",
    "-\tOtherwise, it returns 0.\n"
   ]
  },
  {
   "cell_type": "markdown",
   "id": "4ef4b5a6-387e-4d2e-b4e3-a716e5c885f5",
   "metadata": {},
   "source": [
    "Verify API \n",
    "\n",
    "```python\n",
    "res = requests.get(\"http://127.0.0.1:5000/api/v1.0/predict?num1=3&num2=4\")\n",
    "print(res.json())  # Powinno zwrócić {\"prediction\": 1, \"features\": {\"num1\": 3.0, \"num2\": 4.0}}\n",
    "```\n",
    "\n",
    "---\n",
    "\n",
    "## **Summary**\n",
    "\n",
    "After completing this exercise, students will be able to:\n",
    "✅ Create a basic API in Flask.\n",
    "✅ Add subpages and handle URL parameters.\n",
    "✅ Send GET requests and analyze responses.\n",
    "✅ Automatically start the server from Jupyter Notebook.\n",
    "✅ Implement a simple decision model in the API.\n",
    "\n",
    "Ready for the next challenges? 🚀"
   ]
  },
  {
   "cell_type": "code",
   "execution_count": null,
   "id": "2a08af6f-f126-45bd-acc6-a4f243c54ed6",
   "metadata": {},
   "outputs": [],
   "source": []
  }
 ],
 "metadata": {
  "kernelspec": {
   "display_name": "Python 3 (ipykernel)",
   "language": "python",
   "name": "python3"
  },
  "language_info": {
   "codemirror_mode": {
    "name": "ipython",
    "version": 3
   },
   "file_extension": ".py",
   "mimetype": "text/x-python",
   "name": "python",
   "nbconvert_exporter": "python",
   "pygments_lexer": "ipython3",
   "version": "3.11.6"
  }
 },
 "nbformat": 4,
 "nbformat_minor": 5
}
