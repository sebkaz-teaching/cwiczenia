{
 "cells": [
  {
   "cell_type": "markdown",
   "id": "8ad030b6-29ad-4bfb-b95c-4e9f3dec23d2",
   "metadata": {},
   "source": [
    "# API\n",
    "\n",
    "Z poprzednich ćwiczeń [cw1](https://sebkaz-teaching.github.io/RTA_2025/cw1.html) \n",
    "wiesz już jak napisać i uruchomić podstawowy program naszego API \n",
    "\n",
    "1. Skopiuj podstawowy kod aplikacji Flask i zapisz go do pliku app.py"
   ]
  },
  {
   "cell_type": "code",
   "execution_count": null,
   "id": "ba0be710-dbd7-4145-a44a-8648b11ad13a",
   "metadata": {},
   "outputs": [],
   "source": [
    "%%file app.py\n",
    "###\n",
    "# TWOJ KOD API \n",
    "###\n"
   ]
  },
  {
   "cell_type": "markdown",
   "id": "69c6747f-df5d-40b5-9b23-aac5697cd4ae",
   "metadata": {},
   "source": [
    "2. Przejdz do terminala (w odpowiednim katalogu) i uruchom API poleceniem `python app.py`\n",
    "3. Napisz kod odpytujący stronę główną (metodą `get()`) z wykorzystaniem biblioteki `requests`. Wynik przypisz do zmiennej `res`."
   ]
  },
  {
   "cell_type": "code",
   "execution_count": null,
   "id": "ebf8cf5f-9809-463e-8b8b-323d11724810",
   "metadata": {},
   "outputs": [],
   "source": [
    "import requests\n",
    "# TWOJ KOD \n",
    "res = pass"
   ]
  },
  {
   "cell_type": "markdown",
   "id": "3153b807-f75e-4448-96ba-c914142933c1",
   "metadata": {},
   "source": [
    "4. Na podstawie pola `status_code` napisz wyrażenie warunkowe które dla status_code 200 wyświetli zawartość odpowiedzi (z pola `content`).\n"
   ]
  },
  {
   "cell_type": "code",
   "execution_count": null,
   "id": "e4c245fc-c8da-41b7-9fa9-b26c989beed6",
   "metadata": {},
   "outputs": [],
   "source": [
    "# TWOJ KOD \n",
    "if "
   ]
  },
  {
   "cell_type": "markdown",
   "id": "ffd927fd-5a3d-4fb1-9b3f-21a4bebaf30e",
   "metadata": {},
   "source": [
    "5. Dodaj nową podstronę ze swoim imieniem, tak by po jej wywołaniu pojawił się napis \"<strong>To jest moja strona<strong>\". Wynik nowej aplikacaji zapisz do pliku app.py\n"
   ]
  },
  {
   "cell_type": "code",
   "execution_count": null,
   "id": "ac2094a1-f56d-4d12-8fe3-f2e5af3f18bf",
   "metadata": {},
   "outputs": [],
   "source": [
    "%%file app.py\n",
    "# TWOJ POPRZEDNI KOD API  \n",
    "\n",
    "# KOD TWOJEJ DRUGIEJ PODSTRONY\n"
   ]
  },
  {
   "cell_type": "markdown",
   "id": "e15d1d20-c704-43b0-aa34-c9d6fe44c3fc",
   "metadata": {},
   "source": [
    "6. Pamiętając o zamknięciu poprzedniego serwera, uruchom nowy serwer z pliku app.py wewnątrz notatnika z wykorzystaniem biblioteki `subprocess`. W tym celu wykorzystaj metodę `Popen()` oraz polecenie `flask run`."
   ]
  },
  {
   "cell_type": "code",
   "execution_count": null,
   "id": "e812da4f-898f-4351-b5ab-4fca78ea125a",
   "metadata": {},
   "outputs": [],
   "source": [
    "import subprocess\n",
    "# TWOJ KOD \n"
   ]
  },
  {
   "cell_type": "markdown",
   "id": "ac7d27af-071f-41ba-9245-fb9965556a10",
   "metadata": {},
   "source": [
    "7. Wykonaj zapytanie do nowej podstrony z Twoim imieniem, wypisz status code oraz wiadomość (powinineś zobaczyć napis \"to jest moja strona\". "
   ]
  },
  {
   "cell_type": "code",
   "execution_count": null,
   "id": "f9b28be5-b179-484c-b95c-263b5b62e518",
   "metadata": {},
   "outputs": [],
   "source": [
    "import requests\n",
    "# TWOJ KOD ZAPYTANIA\n"
   ]
  },
  {
   "cell_type": "code",
   "execution_count": null,
   "id": "40de4cb1-62fc-40e8-bb55-fd2c09b658da",
   "metadata": {},
   "outputs": [],
   "source": [
    "# TWOJ KOD wyciągniecia odpowiedzi "
   ]
  },
  {
   "cell_type": "markdown",
   "id": "02b83da2-f0ca-4c7c-8af9-164e5b9b04f1",
   "metadata": {},
   "source": [
    "8. Zamknij podproces z serwerem korzystając z metody `kill()`"
   ]
  },
  {
   "cell_type": "code",
   "execution_count": null,
   "id": "8c8a3e4c-9b40-4e6b-9eb1-90cb9db8c0c9",
   "metadata": {},
   "outputs": [],
   "source": [
    "# TWOJ KOD \n"
   ]
  },
  {
   "cell_type": "markdown",
   "id": "822b5fd3-183b-415d-9c95-5ecf2dc8bc18",
   "metadata": {},
   "source": [
    "## przesłanie wartości do serwera - metoda GET \n",
    "\n",
    "1. Skopiuj kod drugiej aplikacji i zapisz ją do pliku app.py\n",
    "2. Zaimportuj metodę `request` z biblioteki flask\n",
    "3. Utwórz trzecią podstronę o nazwie `/hello` dodając jako parametr do dekoratora `methods=['GET']`\n",
    "4. wewnątrz nowej funkcji zdefiniuj zmienną `name` do której przypiszez `request.args.get(\"name\", \"\")` pierwszy parametr to nazwa zmiennej przekazywanej przez adres natomiast drugi parametr to wartość domyślna gdy zmienna zostanie pominięta w adresie url (w naszym przypadku będzie to pusty string).\n",
    "5. Sprawdz czy uzytkownik podał imię. Jeśli tak to zwróć napis `Hello {name}` a jeśli nie to zwróć `Hello`."
   ]
  },
  {
   "cell_type": "code",
   "execution_count": null,
   "id": "b051d743-50f2-4d59-b847-b0781aac3bb2",
   "metadata": {},
   "outputs": [],
   "source": [
    "%%file app.py\n",
    "\n",
    "from flask import Flask\n",
    "# tutaj dodaj import metody request\n",
    "\n",
    "# utwórz obiekt app \n",
    "\n",
    "# skopiuj poprzednie podstrony aplikacji \n",
    "\n",
    "# tutaj dodaj kod nowej podstrony /hello\n"
   ]
  },
  {
   "cell_type": "markdown",
   "id": "8f5a41a8-c2af-4c63-a97b-4b9e81b03d85",
   "metadata": {},
   "source": [
    "uruchom serwer w notatniku (Popen(), flask run) i zweryfikuj dwa ponizsze zapytania   "
   ]
  },
  {
   "cell_type": "code",
   "execution_count": null,
   "id": "df826cd4-06cd-4385-8057-760953cd0811",
   "metadata": {},
   "outputs": [],
   "source": [
    "# TWOJ KOD \n"
   ]
  },
  {
   "cell_type": "code",
   "execution_count": null,
   "id": "00c020ba-eea0-4aaa-962c-512b1aad5472",
   "metadata": {},
   "outputs": [],
   "source": [
    "response = requests.get(\"http://127.0.0.1:5000/hello\")\n",
    "response.content"
   ]
  },
  {
   "cell_type": "markdown",
   "id": "4b4182c5-1d05-44e5-b339-40c89f0e4b69",
   "metadata": {},
   "source": [
    "Tu powinno pojawić się \"Hello\""
   ]
  },
  {
   "cell_type": "code",
   "execution_count": null,
   "id": "25d115e1-6c53-4bc2-9b57-cd83113a6cbb",
   "metadata": {},
   "outputs": [],
   "source": [
    "response = requests.get(\"http://127.0.0.1:5000/hello?name=Sebastian\")\n",
    "response.content"
   ]
  },
  {
   "cell_type": "markdown",
   "id": "b8aff738-d5e2-4955-9e51-e9df15611dbc",
   "metadata": {},
   "source": [
    "a tutaj 'Hello Sebastian'"
   ]
  },
  {
   "cell_type": "markdown",
   "id": "8d3b881c-af39-450f-ae32-c9d3c6d7c51e",
   "metadata": {},
   "source": [
    "# Model - reguła decyzyjna\n",
    "\n",
    "Napisz serwis API który obsługiwał będzie jeden adres `/api/v1.0/predict` i przyjmował dwie liczby (jeśli użytkownik nie poda liczby powinna wstawić się wartość 0). \n",
    "Zdefiniuj model jako regułę: \n",
    "- jeśli suma dwóch liczb jest większa niż 5.8 zwróć jako predykcję wartość 1\n",
    "- w przeciwnym razie zwróć 0\n",
    "\n",
    "Cała podstrona powinna zwracać słownik zawierający dwa klucze\n",
    "\"prediction\", oraz \"features\" z wypisaniem odpowiedniej informacji zwrotnej. \n",
    "\n",
    "Uruchom i sprawdz poprawność działania. "
   ]
  },
  {
   "cell_type": "code",
   "execution_count": null,
   "id": "a19f4044-8270-466c-80e0-1ec61b38a47f",
   "metadata": {},
   "outputs": [],
   "source": [
    "%%file app.py\n",
    "# TWOJ KOD \n"
   ]
  }
 ],
 "metadata": {
  "kernelspec": {
   "display_name": "Python 3 (ipykernel)",
   "language": "python",
   "name": "python3"
  },
  "language_info": {
   "codemirror_mode": {
    "name": "ipython",
    "version": 3
   },
   "file_extension": ".py",
   "mimetype": "text/x-python",
   "name": "python",
   "nbconvert_exporter": "python",
   "pygments_lexer": "ipython3",
   "version": "3.11.6"
  }
 },
 "nbformat": 4,
 "nbformat_minor": 5
}
