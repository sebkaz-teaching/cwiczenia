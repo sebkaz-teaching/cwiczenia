{
 "cells": [
  {
   "cell_type": "markdown",
   "id": "64f1864a-d95e-471d-b4dc-6a3fb9d4c70e",
   "metadata": {},
   "source": [
    "# Version with Environment Access\n",
    "\n",
    "This version of the exercises can be completed using a new Docker image and running Docker Desktop on your own computer, as well as in the SGH environment.\n",
    "\n",
    "### 1️⃣ Starting the Environment\n",
    "\n",
    "Go to your browser and open the environment page (for Docker, open localhost:8888).\n",
    "\n",
    "Launch Jupyter Lab, then open a new terminal (using the terminal icon).\n",
    "\n",
    "### 2️⃣ Checking Directories and Kafka Availability\n",
    "\n",
    "Navigate to the home directory and list all elements. Check if the kafka directory is present in the list.\n",
    "```sh\n",
    "cd ~\n",
    "ls -la\n",
    "```\n",
    "\n",
    "### 3️⃣ Checking the List of Topics\n",
    "\n",
    "Run the following command to check the list of topics on the Kafka server:\n",
    "```sh\n",
    "kafka/bin/kafka-topics.sh --list --bootstrap-server broker:9092\n",
    "```\n",
    "\n",
    "### Adding a New Topic\n",
    "\n",
    "Create a topic named `streaming`:\n",
    "```sh\n",
    "kafka/bin/kafka-topics.sh --bootstrap-server broker:9092 --create --topic streaming\n",
    "```\n",
    "\n",
    "Check the list of topics again to ensure that streaming has been added:\n",
    "```sh\n",
    "kafka/bin/kafka-topics.sh --list --bootstrap-server broker:9092 | grep streaming\n",
    "```\n",
    "\n",
    "### 5️⃣ Running a Python Producer\n",
    "\n",
    "In a new terminal, create a file named stream.py and paste the following code:"
   ]
  },
  {
   "cell_type": "code",
   "execution_count": null,
   "id": "7be8cfe9-a6b4-4ee4-a104-1e790be9dccf",
   "metadata": {},
   "outputs": [
    {
     "name": "stdout",
     "output_type": "stream",
     "text": [
      "Writing stream.py\n"
     ]
    }
   ],
   "source": [
    "%%file stream.py\n",
    "import json\n",
    "import random\n",
    "import sys\n",
    "from datetime import datetime, timedelta\n",
    "from time import sleep\n",
    "\n",
    "from kafka import KafkaProducer\n",
    "\n",
    "SERVER = \"broker:9092\"\n",
    "TOPIC = \"streaming\"\n",
    "\n",
    "if __name__ == \"__main__\":\n",
    "    \n",
    "    \n",
    "    producer = KafkaProducer(\n",
    "        bootstrap_servers=[SERVER],\n",
    "        value_serializer=lambda x: json.dumps(x).encode(\"utf-8\")\n",
    "    )\n",
    "    \n",
    "    try:\n",
    "        while True:\n",
    "            \n",
    "            message = {\n",
    "                # Your Code Here\n",
    "            }\n",
    "            producer.send(TOPIC, value=message)\n",
    "            sleep(1)\n",
    "    except KeyboardInterrupt:\n",
    "        producer.close()"
   ]
  },
  {
   "cell_type": "markdown",
   "id": "7b1e83cf-7044-42d0-88b4-a5c888b3af55",
   "metadata": {},
   "source": [
    "### 6️⃣ Running a Console Consumer\n",
    "\n",
    "To check if message sending works, open another terminal window and start the consumer:\n",
    "```sh\n",
    "kafka/bin/kafka-console-consumer.sh --bootstrap-server broker:9092 --topic streaming --from-beginning\n",
    "```\n",
    "Now, all messages sent by the producer should appear in the consumer console.\n",
    "\n",
    "### 7️⃣ Finishing Up\n",
    "\n",
    "Remember to run commands from the appropriate directory.\n",
    "When you’re done with the exercises, use Ctrl+C to stop both the producer and the consumer.\n",
    "\n",
    "---\n",
    "Now you have a basic understanding of how Apache Kafka works 🚀\n"
   ]
  },
  {
   "cell_type": "code",
   "execution_count": null,
   "id": "4f1599d3-a355-4f10-97a9-eecb38750cc9",
   "metadata": {},
   "outputs": [],
   "source": []
  }
 ],
 "metadata": {
  "kernelspec": {
   "display_name": "Python 3 (ipykernel)",
   "language": "python",
   "name": "python3"
  },
  "language_info": {
   "codemirror_mode": {
    "name": "ipython",
    "version": 3
   },
   "file_extension": ".py",
   "mimetype": "text/x-python",
   "name": "python",
   "nbconvert_exporter": "python",
   "pygments_lexer": "ipython3",
   "version": "3.11.6"
  }
 },
 "nbformat": 4,
 "nbformat_minor": 5
}
