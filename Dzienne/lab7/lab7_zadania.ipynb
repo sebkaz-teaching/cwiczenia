{
 "cells": [
  {
   "cell_type": "markdown",
   "id": "e752f174-d77f-49bf-af87-2d40e5832d61",
   "metadata": {},
   "source": [
    "# Lab 7 — Zarzadzanie zrodlami danych strumieniowych i segmentacja klientow\n",
    "\n",
    "## 🔄 Wprowadzenie\n",
    "\n",
    "W tym laboratorium zapoznasz sie z roznymi metodami zasilania danych strumieniowych w Apache Spark oraz zastosowaniem prostych transformacji, filtrowania i segmentacji klientow w czasie rzeczywistym.\n",
    "\n",
    "---\n",
    "\n",
    "## 💡 Pomocnicza funkcja do wyswietlania naszych danych strumieniowych\n"
   ]
  },
  {
   "cell_type": "code",
   "execution_count": null,
   "id": "cfb807f7-f176-4caf-a45a-9e6651fa776e",
   "metadata": {},
   "outputs": [],
   "source": [
    "batch_counter = {\"count\": 0}\n",
    "\n",
    "def process_batch(df, batch_id):\n",
    "    batch_counter[\"count\"] += 1\n",
    "    print(f\"Batch ID: {batch_id}\")\n",
    "    df.show(truncate=False)"
   ]
  },
  {
   "cell_type": "markdown",
   "id": "6960ef40-26bc-43df-aad5-571dc127fb89",
   "metadata": {},
   "source": [
    "---\n",
    "\n",
    "## 🔹 rate jako źródło kontrolowanego strumienia\n",
    "\n",
    "### ✅ Zadanie 1\n",
    "\n",
    "1. Przygotuj strumien danych z `format('rate')`, ustaw `rowsPerSecond` na 5.\n",
    "2. Utworz kolumne `user_id`: `expr(\"concat('u', cast(rand()*100 as int))\")`\n",
    "3. Dodaj kolumne `event_type`: `expr(\"case when rand() > 0.7 then 'purchase' else 'view' end\")`"
   ]
  },
  {
   "cell_type": "code",
   "execution_count": null,
   "id": "0c84561b-d001-41bf-9f46-a51404fb78d2",
   "metadata": {},
   "outputs": [],
   "source": [
    "from pyspark.sql import SparkSession\n",
    "from pyspark.sql.functions import expr\n",
    "\n",
    "spark = SparkSession.builder.appName(\"StreamingDemo\").getOrCreate()\n",
    "spark.sparkContext.setLogLevel(\"WARN\")\n",
    "\n",
    "rate_df = (spark....)\n",
    "\n",
    "events = (rate_df....)\n",
    "    \n",
    "query = (events.writeStream\n",
    "         .format(\"console\")\n",
    "         .foreachBatch(process_batch)\n",
    "         .start())"
   ]
  },
  {
   "cell_type": "markdown",
   "id": "54b92623-b93c-4ff0-9a1d-ae4b9f0d2c96",
   "metadata": {},
   "source": [
    "---\n",
    "\n",
    "## 🔹 Filtrowanie danych bez agregacji (append mode)\n",
    "\n",
    "Zobacz jak działa poniższy kod i na jego podstawie:\n",
    "\n",
    "```python\n",
    "from pyspark.sql import SparkSession\n",
    "from pyspark.sql.functions import *\n",
    "\n",
    "spark = SparkSession.builder.appName(\"AppendExample\").getOrCreate()\n",
    "spark.sparkContext.setLogLevel(\"ERROR\")\n",
    "\n",
    "# Źródło rate - generuje timestamp + value\n",
    "rate_df = (spark.readStream\n",
    "           .format(\"rate\")\n",
    "           .option(\"rowsPerSecond\", 5)\n",
    "           .load())\n",
    "\n",
    "# Filtracja bez potrzeby agregacji (bezstanowe przetwarzanie)\n",
    "filtered = rate_df.filter(col(\"value\") % 2 == 0) \\\n",
    "                  .withColumn(\"info\", expr(\"concat('even:', value)\"))\n",
    "\n",
    "# outputMode = append → pokazuje tylko nowe wiersze, bez stanu\n",
    "query = (filtered.writeStream \n",
    "    .outputMode(\"append\") \n",
    "    .format(\"console\") \n",
    "    .option(\"truncate\", False) \n",
    "    .foreachBatch(process_batch)\n",
    "    .start()\n",
    "        )\n",
    "```\n",
    "\n",
    "\n",
    "\n",
    "1. Skorzystaj z danych z poprzedniego zadania.\n",
    "2. Wyfiltruj tylko `purchase`."
   ]
  },
  {
   "cell_type": "code",
   "execution_count": null,
   "id": "f41b0e56-5525-4718-ad54-5210ba5e6cb0",
   "metadata": {},
   "outputs": [],
   "source": [
    "purchases = events....\n",
    "\n",
    "query = (purchases.writeStream\n",
    "         .format(\"console\")\n",
    "         .outputMode(\"append\")\n",
    "         .foreachBatch(process_batch)\n",
    "         .start())"
   ]
  },
  {
   "cell_type": "markdown",
   "id": "53652ad5-d16a-4ce8-9bcc-7ac759ee1c3a",
   "metadata": {},
   "source": [
    "---\n",
    "\n",
    "## 🔹 Źródło plikowe (JSON)\n",
    "\n",
    "### ✅ Generator danych:"
   ]
  },
  {
   "cell_type": "code",
   "execution_count": 1,
   "id": "a5b42a3b-85e0-4124-ad34-dd39ee24aa87",
   "metadata": {},
   "outputs": [
    {
     "name": "stdout",
     "output_type": "stream",
     "text": [
      "Overwriting generator.py\n"
     ]
    }
   ],
   "source": [
    "%%file generator.py\n",
    "# generator.py\n",
    "import json, os, random, time\n",
    "from datetime import datetime, timedelta\n",
    "\n",
    "output_dir = \"data/stream\"\n",
    "os.makedirs(output_dir, exist_ok=True)\n",
    "\n",
    "event_types = [\"view\", \"cart\", \"purchase\"]\n",
    "categories = [\"electronics\", \"books\", \"fashion\", \"home\", \"sports\"]\n",
    "\n",
    "def generate_event():\n",
    "    return {\n",
    "        \"user_id\": f\"u{random.randint(1, 50)}\",\n",
    "        \"event_type\": random.choices(event_types, weights=[0.6, 0.25, 0.15])[0],\n",
    "        \"timestamp\": (datetime.utcnow() - timedelta(seconds=random.randint(0, 300))).isoformat(),\n",
    "        \"product_id\": f\"p{random.randint(100, 120)}\",\n",
    "        \"category\": random.choice(categories),\n",
    "        \"price\": round(random.uniform(10, 1000), 2)\n",
    "    }\n",
    "\n",
    "# Simulate file-based streaming\n",
    "while True:\n",
    "    batch = [generate_event() for _ in range(50)]\n",
    "    filename = f\"{output_dir}/events_{int(time.time())}.json\"\n",
    "    with open(filename, \"w\") as f:\n",
    "        for e in batch:\n",
    "            f.write(json.dumps(e) + \"\\n\")\n",
    "    print(f\"Wrote: {filename}\")\n",
    "    time.sleep(5)"
   ]
  },
  {
   "cell_type": "markdown",
   "id": "47a87d4f-b735-4a96-9f48-82c6e785c7ce",
   "metadata": {},
   "source": [
    "### ✅ Schemat danych:\n",
    "\n",
    "```json\n",
    "{\n",
    "  \"user_id\": \"u123\",\n",
    "  \"event_type\": \"purchase\", // albo \"view\", \"cart\", \"click\"\n",
    "  \"timestamp\": \"2025-05-09T15:24:00Z\",\n",
    "  \"product_id\": \"p456\",\n",
    "  \"category\": \"electronics\",\n",
    "  \"price\": 299.99\n",
    "}\n",
    "```\n",
    "\n",
    "1. Utwórz zmienną `schema`, która zrealizuje schamat danych naszej ramki. Wykorzystaj `StringType()`, `TimestampType()`,`DoubleType()`\n"
   ]
  },
  {
   "cell_type": "code",
   "execution_count": null,
   "id": "ec108097-d59a-4fbb-b2ce-4726fffc7027",
   "metadata": {},
   "outputs": [],
   "source": [
    "from pyspark.sql import SparkSession\n",
    "from pyspark.sql.functions import *\n",
    "from pyspark.sql.types import *\n",
    "\n",
    "spark = SparkSession.builder.appName(\"RealTimeEcommerce\").getOrCreate()\n",
    "spark.sparkContext.setLogLevel(\"ERROR\")\n",
    "\n",
    "# StringType(), TimestampType(), DoubleType()\n",
    "\n",
    "schema = ..."
   ]
  },
  {
   "cell_type": "markdown",
   "id": "3ccb3423-10a1-44a8-8018-5c442460dfa3",
   "metadata": {},
   "source": [
    "### ✅ Odczyt danych z katalogu:"
   ]
  },
  {
   "cell_type": "code",
   "execution_count": null,
   "id": "e5f6d2d6-08f2-4548-b249-5b406b51acac",
   "metadata": {},
   "outputs": [],
   "source": [
    "stream = (spark.readStream\n",
    "          .schema(schema)\n",
    "          .json(\"data/stream\"))\n",
    "\n",
    "query = (stream.writeStream\n",
    "         .format(\"console\")\n",
    "         .foreachBatch(process_batch)\n",
    "         .start())"
   ]
  },
  {
   "cell_type": "markdown",
   "id": "f20d8259-97e1-4dbd-81d6-e03c510483f1",
   "metadata": {},
   "source": [
    "---\n",
    "\n",
    "## 🔹 Bezstanowe zliczanie zdarzen\n",
    "\n",
    "1. Przygotuj zmienną agg1 zliczającą zdarzenia należące do danej grupy `event_type`."
   ]
  },
  {
   "cell_type": "code",
   "execution_count": null,
   "id": "ce8f3826-7c32-4fb8-8273-d3900467f4ee",
   "metadata": {},
   "outputs": [],
   "source": [
    "agg1 = (stream....)\n",
    "\n",
    "# pamietaj, że agregacje wymagają opcji complete\n",
    "query = (agg1\n",
    "         .writeStream\n",
    "         .outputMode(\"complete\")\n",
    "         .format(\"console\")\n",
    "         .foreachBatch(process_batch)\n",
    "         .start()\n",
    "        )"
   ]
  },
  {
   "cell_type": "markdown",
   "id": "c11c3e82-5cdc-4e06-8b13-e60d718ec595",
   "metadata": {},
   "source": [
    "---\n",
    "\n",
    "## 🔹 Agregacja w oknach czasowych\n",
    "\n",
    "`withWatermark(\"timestamp\", \"1 minute\")`\n",
    "   \n",
    "💡 Do czego służy: Informuje Sparka, że dane przychodzą z opóźnieniem i należy je przetwarzać tylko do określonego limitu wstecz (tutaj: 1 minuta).\n",
    "\n",
    "🚨 Dlaczego ważne: Bez watermarku Spark trzymałby w pamięci wszystkie dane, by móc je jeszcze pogrupować. Watermark pozwala zwolnić pamięć.\n",
    "\n",
    "1. Pogrupuj typy zdarzen w thumbling window, w oknie co 5 minut\n",
    "2. dodaj watermark z ustawieniem na 1 minutę. "
   ]
  },
  {
   "cell_type": "code",
   "execution_count": null,
   "id": "461f6288-d768-4dcf-9f79-b2a827363604",
   "metadata": {},
   "outputs": [],
   "source": [
    "windowed = (stream...)\n",
    "\n",
    "query = (\n",
    "    windowed.writeStream\n",
    "    .outputMode(\"append\")\n",
    "    .foreachBatch(process_batch)\n",
    "    .format(\"console\")\n",
    "    .start()\n",
    ")"
   ]
  },
  {
   "cell_type": "markdown",
   "id": "b82b9ed3-ed97-469d-99a6-9c0ae1bd7213",
   "metadata": {},
   "source": [
    "3. Zmień thumbling window na sliding window z szerokością okna 5 minut i startem nowego okna co 1 minutę. "
   ]
  },
  {
   "cell_type": "code",
   "execution_count": null,
   "id": "57c944a2-66aa-4eec-a0d6-cb298796ce49",
   "metadata": {},
   "outputs": [],
   "source": [
    "windowed = (stream...)\n",
    "\n",
    "query = (\n",
    "    windowed.writeStream\n",
    "    .outputMode(\"append\")\n",
    "    .foreachBatch(process_batch)\n",
    "    .format(\"console\")\n",
    "    .start()\n",
    ")"
   ]
  },
  {
   "cell_type": "markdown",
   "id": "0175c8e0-0c7e-4fdf-8c81-f9963beb5391",
   "metadata": {},
   "source": [
    "\n",
    "---\n",
    "\n",
    "## 🔹 Segmentacja klientow\n",
    "\n",
    "🧩 Logika segmentacji:\n",
    "\n",
    "1. jeśli był purchase → \"Buyer\"\n",
    "2. jeśli był cart, ale nie purchase → \"Cart abandoner\"\n",
    "3. jeśli tylko view → \"Lurker\"\n",
    "\n",
    "\n",
    "`groupBy(window(...), \"user_id\")`\n",
    "\n",
    "💡 Do czego służy: Grupujemy dane per użytkownik w konkretnym przedziale czasu (oknie 5-minutowym).\n",
    "\n",
    "⏱️ window(\"timestamp\", \"5 minutes\"): Funkcja okna czasowego – każda grupa będzie dotyczyć jednego użytkownika w konkretnym 5-minutowym interwale.\n",
    "\n",
    "`agg(collect_set(\"event_type\"))`\n",
    "\n",
    "💡 Do czego służy: Zbiera wszystkie typy zdarzeń (view, cart, purchase) danego użytkownika w danym oknie.\n",
    "\n",
    "🧠 Dlaczego `collect_set` a nie `collect_list`?: collect_set usuwa duplikaty — interesuje nas tylko czy coś się zdarzyło, a nie ile razy.\n",
    "\n",
    "5. withColumn(... expr(...))\n",
    "\n",
    "💡 Do czego służy: Na podstawie zbioru zdarzeń określamy segment użytkownika.\n",
    "\n",
    "🔎 `array_contains`: Funkcja sprawdzająca, czy dany typ zdarzenia znajduje się w tablicy.\n",
    "\n",
    "\n",
    "\n",
    "\n",
    "🧠 Co warto wiedzieć:\n",
    "\n",
    "- Segmentacja to klasyczne zastosowanie agregacji i transformacji strumienia.\n",
    "- Łączenie window + watermark jest kluczowe do kontroli stanu.\n",
    "- collect_set umożliwia prostą analizę zachowań, bez potrzeby przechowywania surowych danych.\n",
    "- expr() daje elastyczność, by używać składni SQL wewnątrz kodu DataFrame."
   ]
  },
  {
   "cell_type": "code",
   "execution_count": null,
   "id": "a16bfcc2-fd7a-46d9-9d4f-e0d6f713e449",
   "metadata": {},
   "outputs": [],
   "source": []
  },
  {
   "cell_type": "markdown",
   "id": "743b65ec-2358-40c5-9662-bfa8afd34260",
   "metadata": {},
   "source": [
    "---\n",
    "## ⚙️ Porownanie trybow `outputMode`\n",
    "\n",
    "| outputMode | Opis                                        | Kiedy uzywac                           | Wymagania                 |\n",
    "| ---------- | ------------------------------------------- | -------------------------------------- | ------------------------- |\n",
    "| `append`   | Wypisywane sa **tylko nowe wiersze**        | Filtrowanie, wzbogacanie bez agregacji | Nie dziala z `groupBy`    |\n",
    "| `update`   | Wypisywane sa tylko **zmienione wiersze**   | Agregacje z watermarkami               | Wymaga zarzadzania stanem |\n",
    "| `complete` | Wypisywane jest **calosciowe podsumowanie** | Podsumowania okien, snapshoty          | Moze byc kosztowne        |\n",
    "\n",
    "---"
   ]
  }
 ],
 "metadata": {
  "kernelspec": {
   "display_name": "Python 3 (ipykernel)",
   "language": "python",
   "name": "python3"
  },
  "language_info": {
   "codemirror_mode": {
    "name": "ipython",
    "version": 3
   },
   "file_extension": ".py",
   "mimetype": "text/x-python",
   "name": "python",
   "nbconvert_exporter": "python",
   "pygments_lexer": "ipython3",
   "version": "3.11.6"
  }
 },
 "nbformat": 4,
 "nbformat_minor": 5
}
