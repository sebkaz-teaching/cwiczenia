{
 "cells": [
  {
   "cell_type": "code",
   "execution_count": 2,
   "id": "202f5db1-5f89-48f9-8c36-bce935fb6140",
   "metadata": {
    "tags": []
   },
   "outputs": [],
   "source": [
    "from pyspark.sql import SparkSession"
   ]
  },
  {
   "cell_type": "code",
   "execution_count": 3,
   "id": "f7412740-6656-4e45-9b92-79f536443ebe",
   "metadata": {
    "tags": []
   },
   "outputs": [],
   "source": [
    "spark = SparkSession.builder.getOrCreate()"
   ]
  },
  {
   "cell_type": "code",
   "execution_count": 4,
   "id": "846d951c-2e03-4945-92a4-903a6e3b43a8",
   "metadata": {
    "tags": []
   },
   "outputs": [
    {
     "data": {
      "text/html": [
       "\n",
       "            <div>\n",
       "                <p><b>SparkSession - in-memory</b></p>\n",
       "                \n",
       "        <div>\n",
       "            <p><b>SparkContext</b></p>\n",
       "\n",
       "            <p><a href=\"http://bc4ece5ece68:4040\">Spark UI</a></p>\n",
       "\n",
       "            <dl>\n",
       "              <dt>Version</dt>\n",
       "                <dd><code>v3.4.1</code></dd>\n",
       "              <dt>Master</dt>\n",
       "                <dd><code>local[*]</code></dd>\n",
       "              <dt>AppName</dt>\n",
       "                <dd><code>pyspark-shell</code></dd>\n",
       "            </dl>\n",
       "        </div>\n",
       "        \n",
       "            </div>\n",
       "        "
      ],
      "text/plain": [
       "<pyspark.sql.session.SparkSession at 0xffff6cc01310>"
      ]
     },
     "execution_count": 4,
     "metadata": {},
     "output_type": "execute_result"
    }
   ],
   "source": [
    "spark"
   ]
  },
  {
   "cell_type": "markdown",
   "id": "d818dbbe-bdd9-4835-a0a4-1c891657f7f8",
   "metadata": {
    "tags": []
   },
   "source": [
    "### Przygotowanie danych\n",
    "\n",
    "```bash\n",
    "mkdir data\n",
    "cd data\n",
    "curl -L -o donation.zip http://bit.ly/1Aoywaq\n",
    "unzip donation.zip\n",
    "unzip 'block_*.zip'\n",
    "\n",
    "```"
   ]
  },
  {
   "cell_type": "code",
   "execution_count": null,
   "id": "178aaf0e-bebe-4ff5-bb1c-9f0dbad99eab",
   "metadata": {
    "tags": []
   },
   "outputs": [],
   "source": [
    "# create dataframe \n",
    "prev = spark.read.csv(\"data/block*.csv\")"
   ]
  },
  {
   "cell_type": "code",
   "execution_count": null,
   "id": "8d6bb698-1ced-4793-963c-a31d00cd3b76",
   "metadata": {
    "tags": []
   },
   "outputs": [],
   "source": [
    "prev"
   ]
  },
  {
   "cell_type": "code",
   "execution_count": null,
   "id": "41c058c5-bd1b-481b-bf46-5a65643f9d08",
   "metadata": {
    "tags": []
   },
   "outputs": [],
   "source": [
    "prev.show(2)"
   ]
  },
  {
   "cell_type": "code",
   "execution_count": null,
   "id": "365c9ee8-cae5-48d1-a883-b069efc16547",
   "metadata": {
    "tags": []
   },
   "outputs": [],
   "source": [
    "prev.show()"
   ]
  },
  {
   "cell_type": "code",
   "execution_count": null,
   "id": "20a0dd84-da97-4b24-9e1c-74e6ef171b90",
   "metadata": {
    "tags": []
   },
   "outputs": [],
   "source": [
    "# dodatkowe opcje z header i wartości null \n",
    "parsed = spark.read.option(\"header\", \"true\")\\\n",
    ".option(\"nullValue\", \"?\")\\\n",
    ".option(\"inferSchema\", \"true\")\\\n",
    ".csv(\"data/block*.csv\")"
   ]
  },
  {
   "cell_type": "code",
   "execution_count": null,
   "id": "8a87eb67-cbf7-496f-8738-71669a4a6fba",
   "metadata": {
    "tags": []
   },
   "outputs": [],
   "source": [
    "parsed.show(5)"
   ]
  },
  {
   "cell_type": "code",
   "execution_count": null,
   "id": "65c680d3-359c-44a7-8b2b-8af59796a2bb",
   "metadata": {
    "tags": []
   },
   "outputs": [],
   "source": [
    "parsed.printSchema()"
   ]
  },
  {
   "cell_type": "markdown",
   "id": "112a1cf3-1fa8-4f7e-b825-d012c95d5f14",
   "metadata": {},
   "source": [
    "## inne formaty \n",
    "\n",
    "- parquet\n",
    "- orc\n",
    "- json\n",
    "- jdbc\n",
    "- avro\n",
    "- yrxy\n",
    "- image\n",
    "- libsvm\n",
    "- binary\n",
    "- xml"
   ]
  },
  {
   "cell_type": "code",
   "execution_count": null,
   "id": "1d3140ad-3878-4532-bc9e-50d7769c275b",
   "metadata": {
    "tags": []
   },
   "outputs": [],
   "source": [
    "parsed.write.format(\"parquet\").save(\"data/block2.parquet\")"
   ]
  },
  {
   "cell_type": "code",
   "execution_count": null,
   "id": "14a12cbf-1008-4ef0-9e71-de98ee5956ee",
   "metadata": {
    "tags": []
   },
   "outputs": [],
   "source": [
    "t = spark.read.format(\"parquet\").load(\"data/block.parquet\")"
   ]
  },
  {
   "cell_type": "code",
   "execution_count": null,
   "id": "1cf44170-ea5d-49ca-9c56-557206cb6400",
   "metadata": {
    "tags": []
   },
   "outputs": [],
   "source": [
    "t.show(2)"
   ]
  },
  {
   "cell_type": "code",
   "execution_count": null,
   "id": "268c04e2-797b-4efc-91c6-3b33b8bc6887",
   "metadata": {
    "tags": []
   },
   "outputs": [],
   "source": [
    "spark.stop()"
   ]
  },
  {
   "cell_type": "markdown",
   "id": "e82dc365-1b26-4926-953e-6c6bd0dc4b10",
   "metadata": {},
   "source": [
    "## schematy danych "
   ]
  },
  {
   "cell_type": "code",
   "execution_count": null,
   "id": "f50be2db-b995-4151-a874-f08bb0830acf",
   "metadata": {
    "tags": []
   },
   "outputs": [],
   "source": [
    "from pyspark.sql.types import StructType, StructField, StringType, DoubleType, IntegerType\n",
    "\n",
    "schema = StructType([\n",
    "  StructField(\"Date\", StringType(), True),\n",
    "  StructField(\"Open\", DoubleType(), True),\n",
    "  StructField(\"High\", DoubleType(), True),\n",
    "  StructField(\"Low\", DoubleType(), True),\n",
    "  StructField(\"Close\", DoubleType(), True),\n",
    "  StructField(\"Volume\", IntegerType(), True),\n",
    "  StructField(\"Name\", StringType(), True)\n",
    "])\n",
    "\n",
    "\n",
    "ddlSchemaStr = \"\"\"Date STRING, Open FLOAT, High FLOAT, \n",
    "Low FLOAT, Close FLOAT, Voulme INT, Name String \n",
    "\"\"\""
   ]
  },
  {
   "cell_type": "code",
   "execution_count": null,
   "id": "f10c3588-1ee7-49b1-9845-bb221fc4dd6e",
   "metadata": {
    "tags": []
   },
   "outputs": [],
   "source": [
    "from pyspark.sql import SparkSession\n",
    "\n",
    "spark = SparkSession.builder.getOrCreate()\n",
    "\n",
    "df = spark.read.option(\"header\", True)\\\n",
    ".csv(\"data/stocks/AAPL_2006-01-01_to_2018-01-01.csv\", schema=ddlSchemaStr)\n",
    "\n",
    "df.show(5)"
   ]
  },
  {
   "cell_type": "markdown",
   "id": "3c5a346b-4416-4132-a2a1-01b254722313",
   "metadata": {},
   "source": [
    "## dane niustrukturyzowane"
   ]
  },
  {
   "cell_type": "code",
   "execution_count": 5,
   "id": "255a8136-c4ef-475d-816c-b2b648cfe665",
   "metadata": {
    "tags": []
   },
   "outputs": [
    {
     "name": "stdout",
     "output_type": "stream",
     "text": [
      "Overwriting test.json\n"
     ]
    }
   ],
   "source": [
    "%%file test.json\n",
    "\n",
    "{\n",
    " \"id\": \"0001\",\n",
    " \"type\": \"donut\",\n",
    " \"name\": \"Cake\",\n",
    " \"ppu\": 0.55,\n",
    " \"batters\":\n",
    "  {\n",
    "   \"batter\":\n",
    "    [\n",
    "     { \"id\": \"1001\", \"type\": \"Regular\" },\n",
    "     { \"id\": \"1002\", \"type\": \"Chocolate\" },\n",
    "     { \"id\": \"1003\", \"type\": \"Blueberry\" }\n",
    "    ]\n",
    "  },\n",
    " \"topping\":\n",
    "  [\n",
    "   { \"id\": \"5001\", \"type\": \"None\" },\n",
    "   { \"id\": \"5002\", \"type\": \"Glazed\" },\n",
    "   { \"id\": \"5005\", \"type\": \"Sugar\" },\n",
    "   { \"id\": \"5007\", \"type\": \"Powdered Sugar\" },\n",
    "   { \"id\": \"5006\", \"type\": \"Chocolate with Sprinkles\" },\n",
    "   { \"id\": \"5003\", \"type\": \"Chocolate\" },\n",
    "   { \"id\": \"5004\", \"type\": \"Maple\" }\n",
    "  ]\n",
    "}"
   ]
  },
  {
   "cell_type": "code",
   "execution_count": 6,
   "id": "055aa905-5dcc-40d0-aaf1-6a50bdb72ab0",
   "metadata": {
    "tags": []
   },
   "outputs": [],
   "source": [
    "rawDFjson = spark.read.json(\"test.json\", multiLine = \"true\")"
   ]
  },
  {
   "cell_type": "code",
   "execution_count": 7,
   "id": "0cc8322f-142d-427a-ba3e-f7c6115f770d",
   "metadata": {
    "scrolled": true,
    "tags": []
   },
   "outputs": [
    {
     "name": "stdout",
     "output_type": "stream",
     "text": [
      "root\n",
      " |-- batters: struct (nullable = true)\n",
      " |    |-- batter: array (nullable = true)\n",
      " |    |    |-- element: struct (containsNull = true)\n",
      " |    |    |    |-- id: string (nullable = true)\n",
      " |    |    |    |-- type: string (nullable = true)\n",
      " |-- id: string (nullable = true)\n",
      " |-- name: string (nullable = true)\n",
      " |-- ppu: double (nullable = true)\n",
      " |-- topping: array (nullable = true)\n",
      " |    |-- element: struct (containsNull = true)\n",
      " |    |    |-- id: string (nullable = true)\n",
      " |    |    |-- type: string (nullable = true)\n",
      " |-- type: string (nullable = true)\n",
      "\n"
     ]
    }
   ],
   "source": [
    "rawDFjson.printSchema()"
   ]
  },
  {
   "cell_type": "code",
   "execution_count": 8,
   "id": "40c2678b-48e9-4a52-bc24-af4e42fd587c",
   "metadata": {
    "tags": []
   },
   "outputs": [],
   "source": [
    "sampleDF = rawDFjson.withColumnRenamed(\"id\", \"key\")"
   ]
  },
  {
   "cell_type": "code",
   "execution_count": 9,
   "id": "d97db55c-463e-4ee5-a6f0-d0e9bac9762b",
   "metadata": {
    "tags": []
   },
   "outputs": [
    {
     "name": "stdout",
     "output_type": "stream",
     "text": [
      "root\n",
      " |-- batters: struct (nullable = true)\n",
      " |    |-- batter: array (nullable = true)\n",
      " |    |    |-- element: struct (containsNull = true)\n",
      " |    |    |    |-- id: string (nullable = true)\n",
      " |    |    |    |-- type: string (nullable = true)\n",
      " |-- key: string (nullable = true)\n",
      " |-- name: string (nullable = true)\n",
      " |-- ppu: double (nullable = true)\n",
      " |-- topping: array (nullable = true)\n",
      " |    |-- element: struct (containsNull = true)\n",
      " |    |    |-- id: string (nullable = true)\n",
      " |    |    |-- type: string (nullable = true)\n",
      " |-- type: string (nullable = true)\n",
      "\n"
     ]
    }
   ],
   "source": [
    "sampleDF.printSchema()"
   ]
  },
  {
   "cell_type": "code",
   "execution_count": 10,
   "id": "802901f2-893f-4134-8842-0b21a15c1ae5",
   "metadata": {
    "tags": []
   },
   "outputs": [
    {
     "name": "stdout",
     "output_type": "stream",
     "text": [
      "root\n",
      " |-- key: string (nullable = true)\n",
      " |-- batter: array (nullable = true)\n",
      " |    |-- element: struct (containsNull = true)\n",
      " |    |    |-- id: string (nullable = true)\n",
      " |    |    |-- type: string (nullable = true)\n",
      "\n"
     ]
    }
   ],
   "source": [
    "batDF = sampleDF.select(\"key\", \"batters.batter\")\n",
    "batDF.printSchema()"
   ]
  },
  {
   "cell_type": "code",
   "execution_count": 11,
   "id": "d3e6f473-c7a2-4566-85d3-c47b6251fd7f",
   "metadata": {
    "tags": []
   },
   "outputs": [
    {
     "name": "stdout",
     "output_type": "stream",
     "text": [
      "+----+-------------------------------------------------------+\n",
      "|key |batter                                                 |\n",
      "+----+-------------------------------------------------------+\n",
      "|0001|[{1001, Regular}, {1002, Chocolate}, {1003, Blueberry}]|\n",
      "+----+-------------------------------------------------------+\n",
      "\n"
     ]
    }
   ],
   "source": [
    "batDF.show(1, False)"
   ]
  },
  {
   "cell_type": "code",
   "execution_count": 12,
   "id": "e48e334e-c5da-4829-85e3-c133b403d8c0",
   "metadata": {
    "tags": []
   },
   "outputs": [
    {
     "name": "stdout",
     "output_type": "stream",
     "text": [
      "+----+-----------------+\n",
      "| key|       new_batter|\n",
      "+----+-----------------+\n",
      "|0001|  {1001, Regular}|\n",
      "|0001|{1002, Chocolate}|\n",
      "|0001|{1003, Blueberry}|\n",
      "+----+-----------------+\n",
      "\n"
     ]
    }
   ],
   "source": [
    "from pyspark.sql.functions import explode\n",
    "bat2DF = batDF.select(\"key\", explode(\"batter\").alias(\"new_batter\"))\n",
    "bat2DF.show()"
   ]
  },
  {
   "cell_type": "code",
   "execution_count": 13,
   "id": "c2263cab-5ccd-42c4-a901-1af3870ffbc2",
   "metadata": {
    "tags": []
   },
   "outputs": [
    {
     "name": "stdout",
     "output_type": "stream",
     "text": [
      "root\n",
      " |-- key: string (nullable = true)\n",
      " |-- new_batter: struct (nullable = true)\n",
      " |    |-- id: string (nullable = true)\n",
      " |    |-- type: string (nullable = true)\n",
      "\n"
     ]
    }
   ],
   "source": [
    "bat2DF.printSchema()"
   ]
  },
  {
   "cell_type": "code",
   "execution_count": 14,
   "id": "e8b49003-1c23-4166-a694-61178c832714",
   "metadata": {
    "tags": []
   },
   "outputs": [
    {
     "name": "stdout",
     "output_type": "stream",
     "text": [
      "+----+----+---------+\n",
      "| key|  id|     type|\n",
      "+----+----+---------+\n",
      "|0001|1001|  Regular|\n",
      "|0001|1002|Chocolate|\n",
      "|0001|1003|Blueberry|\n",
      "+----+----+---------+\n",
      "\n"
     ]
    }
   ],
   "source": [
    "bat2DF.select(\"key\", \"new_batter.*\").show()"
   ]
  },
  {
   "cell_type": "code",
   "execution_count": null,
   "id": "58ad0947-f57d-450d-9488-9416121439a3",
   "metadata": {
    "tags": []
   },
   "outputs": [],
   "source": [
    "finalBatDF = (sampleDF\n",
    "        .select(\"key\",  \n",
    "explode(\"batters.batter\").alias(\"new_batter\"))\n",
    "        .select(\"key\", \"new_batter.*\")\n",
    "        .withColumnRenamed(\"id\", \"bat_id\")\n",
    "        .withColumnRenamed(\"type\", \"bat_type\"))\n",
    "finalBatDF.show()"
   ]
  },
  {
   "cell_type": "code",
   "execution_count": null,
   "id": "c9d15ad7-f308-40b5-9cd4-343cdc89bf38",
   "metadata": {
    "tags": []
   },
   "outputs": [],
   "source": [
    "topDF = (sampleDF\n",
    "        .select(\"key\", explode(\"topping\").alias(\"new_topping\"))\n",
    "        .select(\"key\", \"new_topping.*\")\n",
    "        .withColumnRenamed(\"id\", \"top_id\")\n",
    "        .withColumnRenamed(\"type\", \"top_type\")\n",
    "        )\n",
    "topDF.show(10, False)"
   ]
  },
  {
   "cell_type": "markdown",
   "id": "cd8dd2f0-e666-45ae-b96c-9afe902068f4",
   "metadata": {},
   "source": [
    "## Eksploracyjna Analiza Danych"
   ]
  },
  {
   "cell_type": "code",
   "execution_count": null,
   "id": "d381357d-6514-4071-854d-1f9d26664b64",
   "metadata": {
    "tags": []
   },
   "outputs": [],
   "source": [
    "# zweryfikuj schemat danych\n",
    "parsed.printSchema()"
   ]
  },
  {
   "cell_type": "code",
   "execution_count": null,
   "id": "1cfa49c5-77a9-4141-9d65-b98802839819",
   "metadata": {
    "tags": []
   },
   "outputs": [],
   "source": [
    "# sprawdz wartosci dla pierwszego rzedu\n",
    "parsed.first()"
   ]
  },
  {
   "cell_type": "code",
   "execution_count": null,
   "id": "f8c5c13f-e323-429b-a990-305934b5e535",
   "metadata": {
    "tags": []
   },
   "outputs": [],
   "source": [
    "# ile przypadkow \n",
    "parsed.count()"
   ]
  },
  {
   "cell_type": "code",
   "execution_count": null,
   "id": "89429913-e699-413b-b65c-c4f6c954069b",
   "metadata": {
    "tags": []
   },
   "outputs": [],
   "source": [
    "# zapisz do pamieci na klastrze (1 maszyna) \n",
    "parsed.cache()"
   ]
  },
  {
   "cell_type": "code",
   "execution_count": null,
   "id": "d147248c-2d26-4889-a9ca-a7d804981c2b",
   "metadata": {
    "tags": []
   },
   "outputs": [],
   "source": [
    "# target \"is_match\" liczba zgodnych i niezgodnych rekordow\n",
    "from pyspark.sql.functions import col\n",
    "\n",
    "parsed.groupBy(\"is_match\").count().orderBy(col(\"count\").desc()).show()"
   ]
  },
  {
   "cell_type": "code",
   "execution_count": null,
   "id": "46f772b3-5277-410f-a767-5d05424ef293",
   "metadata": {
    "tags": []
   },
   "outputs": [],
   "source": [
    "# inne agregaty agg\n",
    "from pyspark.sql.functions import avg, stddev, stddev_pop\n",
    "\n",
    "parsed.agg(avg(\"cmp_sex\"), stddev(\"cmp_sex\"), stddev_pop(\"cmp_sex\")).show()"
   ]
  },
  {
   "cell_type": "code",
   "execution_count": null,
   "id": "a4c85b84-c0c0-4c53-8425-1c4acfbaca8e",
   "metadata": {
    "tags": []
   },
   "outputs": [],
   "source": [
    "# polecenia sql - przypisanie nazwy dla silnika sql - tabela przejsciowa\n",
    "parsed.createOrReplaceTempView(\"dane\")"
   ]
  },
  {
   "cell_type": "code",
   "execution_count": null,
   "id": "e8755985-ce9c-4112-9642-2cdcd4ad2a1e",
   "metadata": {
    "tags": []
   },
   "outputs": [],
   "source": [
    "spark.sql(\"\"\" SELECT is_match, COUNT(*) cnt FROM dane group by is_match order by cnt DESC\"\"\").show()"
   ]
  },
  {
   "cell_type": "code",
   "execution_count": null,
   "id": "759ae876-52dc-4bcb-a50c-a8f6891194e0",
   "metadata": {
    "tags": []
   },
   "outputs": [],
   "source": [
    "# zbiorcze statystyki \n",
    "summary = parsed.describe()\n",
    "summary.show()"
   ]
  },
  {
   "cell_type": "code",
   "execution_count": null,
   "id": "5bd5e87c-6758-411c-8de8-6fbb4399b9ed",
   "metadata": {
    "tags": []
   },
   "outputs": [],
   "source": [
    "summary.select(\"summary\", \"cmp_fname_c1\", \"cmp_fname_c2\").show()"
   ]
  },
  {
   "cell_type": "markdown",
   "id": "d729f99f-a5bb-49be-8aa7-4d5fa90b1107",
   "metadata": {},
   "source": [
    "> która zmienna lepiej opisze dane c1 czy c2 "
   ]
  },
  {
   "cell_type": "code",
   "execution_count": null,
   "id": "b9c8890c-2053-41d2-8b84-7198905b0cbf",
   "metadata": {
    "tags": []
   },
   "outputs": [],
   "source": [
    "# statystyki dla poszczegolnych klas\n",
    "\n",
    "# filtrowanie sql\n",
    "matches = parsed.where(\"is_match = true\")\n",
    "# filtrowanie pyspark\n",
    "misses = parsed.filter(col(\"is_match\") == False)\n",
    "\n",
    "match_summary = matches.describe()\n",
    "miss_summary = misses.describe()"
   ]
  },
  {
   "cell_type": "code",
   "execution_count": null,
   "id": "600b49ca-6b22-42ef-9761-8283d06f60cc",
   "metadata": {
    "tags": []
   },
   "outputs": [],
   "source": [
    "match_summary.show()"
   ]
  },
  {
   "cell_type": "code",
   "execution_count": null,
   "id": "4a542e7a-d26e-4c5e-877d-8dd28276e24d",
   "metadata": {
    "tags": []
   },
   "outputs": [],
   "source": [
    "miss_summary.show()"
   ]
  },
  {
   "cell_type": "markdown",
   "id": "83381456-981e-429d-8ef8-fadc253d1286",
   "metadata": {
    "tags": []
   },
   "source": [
    "## Tabele przestawne spark"
   ]
  },
  {
   "cell_type": "code",
   "execution_count": null,
   "id": "67181430-52b9-4d20-aeb0-aeca52870160",
   "metadata": {
    "tags": []
   },
   "outputs": [],
   "source": [
    "summary_p = summary.toPandas()"
   ]
  },
  {
   "cell_type": "code",
   "execution_count": null,
   "id": "66802ea5-1cb8-431e-8c2e-74ede7327d61",
   "metadata": {
    "tags": []
   },
   "outputs": [],
   "source": [
    "summary_p.head()"
   ]
  },
  {
   "cell_type": "code",
   "execution_count": null,
   "id": "e73d61b6-0092-4d85-b9bc-ec23331bbc3c",
   "metadata": {
    "tags": []
   },
   "outputs": [],
   "source": [
    "summary_p.shape"
   ]
  },
  {
   "cell_type": "code",
   "execution_count": null,
   "id": "9e3eacb6-2baa-46c0-b964-2c207b563333",
   "metadata": {
    "tags": []
   },
   "outputs": [],
   "source": [
    "summary_p = summary_p.set_index('summary').transpose().reset_index()\n",
    "summary_p = summary_p.rename(columns={'index':'field'})\n",
    "summary_p = summary_p.rename_axis(None, axis=1)"
   ]
  },
  {
   "cell_type": "code",
   "execution_count": null,
   "id": "b64008dc-0d3c-4dbd-87eb-40b4d5c89589",
   "metadata": {
    "tags": []
   },
   "outputs": [],
   "source": [
    "summaryT = spark.createDataFrame(summary_p)\n",
    "summaryT.show()"
   ]
  },
  {
   "cell_type": "code",
   "execution_count": null,
   "id": "0a6ec544-a601-45a2-8377-c751096dbbb0",
   "metadata": {
    "tags": []
   },
   "outputs": [],
   "source": [
    "summaryT.printSchema() # czy dobre typy danych ?? "
   ]
  },
  {
   "cell_type": "code",
   "execution_count": null,
   "id": "e4f4fc15-00ad-4810-92b9-15e47a52c5f7",
   "metadata": {
    "tags": []
   },
   "outputs": [],
   "source": [
    "from pyspark.sql.types import DoubleType\n",
    "\n",
    "for c in summaryT.columns:\n",
    "    if c == 'field':\n",
    "        continue\n",
    "    summaryT = summaryT.withColumn(c, summaryT[c].cast(DoubleType()))"
   ]
  },
  {
   "cell_type": "code",
   "execution_count": null,
   "id": "4895da90-8627-401c-aab5-8c54952e482d",
   "metadata": {
    "tags": []
   },
   "outputs": [],
   "source": [
    "summaryT.printSchema() # teraz lepiej"
   ]
  },
  {
   "cell_type": "code",
   "execution_count": null,
   "id": "27182754-f6e9-4dd3-9695-cfaf484e0e68",
   "metadata": {
    "tags": []
   },
   "outputs": [],
   "source": [
    "# wykonaj to samo dla tabel match i miss"
   ]
  },
  {
   "cell_type": "code",
   "execution_count": null,
   "id": "569a5119-19ae-45f7-9496-30fd3c2ddb90",
   "metadata": {
    "tags": []
   },
   "outputs": [],
   "source": [
    "def pivot_summary(desc):\n",
    "    desc_p = desc.toPandas()\n",
    "    desc_p = desc_p.set_index('summary').transpose().reset_index()\n",
    "    desc_p = desc_p.rename(columns={'index':'field'})\n",
    "    desc_p = desc_p.rename_axis(None, axis=1)\n",
    "    descT = spark.createDataFrame(desc_p)\n",
    "    for c in descT.columns:\n",
    "        if c == 'field':\n",
    "            continue\n",
    "        else:\n",
    "            descT = descT.withColumn(c, descT[c].cast(DoubleType()))\n",
    "    return descT"
   ]
  },
  {
   "cell_type": "code",
   "execution_count": null,
   "id": "65e47639-1638-488e-93b9-8336d8795a2d",
   "metadata": {
    "tags": []
   },
   "outputs": [],
   "source": [
    "match_summaryT = pivot_summary(match_summary)\n",
    "miss_summaryT = pivot_summary(miss_summary)"
   ]
  },
  {
   "cell_type": "markdown",
   "id": "01d1099c-0fa5-4103-9173-baf55e82e9c8",
   "metadata": {},
   "source": [
    "## złączenia "
   ]
  },
  {
   "cell_type": "code",
   "execution_count": null,
   "id": "5bebb104-709d-4336-ac14-0fdc4a56d2f8",
   "metadata": {
    "tags": []
   },
   "outputs": [],
   "source": [
    "match_summaryT.createOrReplaceTempView(\"match_s\")\n",
    "miss_summaryT.createOrReplaceTempView(\"miss_s\")"
   ]
  },
  {
   "cell_type": "code",
   "execution_count": null,
   "id": "72af2e16-4103-4e9c-a8aa-048faa368fe8",
   "metadata": {
    "tags": []
   },
   "outputs": [],
   "source": [
    "spark.sql(\"\"\"\n",
    "Select a.field, a.count + b.count total, a.mean - b.mean delta\n",
    "from match_s a inner join miss_s b on a.field = b.field \n",
    "where a.field not in (\"id_1\", \"id_2\")\n",
    "order by delta DESC, total DESC\n",
    "\"\"\").show()"
   ]
  },
  {
   "cell_type": "markdown",
   "id": "0277a437-d0cc-46ee-8952-38750b469cea",
   "metadata": {
    "tags": []
   },
   "source": [
    "> do modelu : `cmp_plz`, `cmp_by`, `cmp_bd`, `cmp_lname_c1`, `cmp_bm`  "
   ]
  },
  {
   "cell_type": "code",
   "execution_count": null,
   "id": "1e7b97e3-2105-465b-9058-08e301ebc13c",
   "metadata": {
    "tags": []
   },
   "outputs": [],
   "source": [
    "## score = suma zmiennych\n",
    "zmienne = ['cmp_plz','cmp_by','cmp_bd','cmp_lname_c1','cmp_bm']\n",
    "suma = \" + \".join(zmienne)"
   ]
  },
  {
   "cell_type": "code",
   "execution_count": null,
   "id": "892fed78-d456-41f2-af73-67ca86235ecf",
   "metadata": {
    "tags": []
   },
   "outputs": [],
   "source": [
    "suma"
   ]
  },
  {
   "cell_type": "code",
   "execution_count": null,
   "id": "0d22ebab-bde5-4eb2-8c88-1809e1e2fa96",
   "metadata": {
    "tags": []
   },
   "outputs": [],
   "source": [
    "from pyspark.sql.functions import expr"
   ]
  },
  {
   "cell_type": "code",
   "execution_count": null,
   "id": "f86353a4-59f6-4669-9da5-111a37b8176d",
   "metadata": {
    "tags": []
   },
   "outputs": [],
   "source": [
    "scored = parsed.fillna(0, subset=zmienne)\\\n",
    ".withColumn('score', expr(suma))\\\n",
    ".select('score','is_match')"
   ]
  },
  {
   "cell_type": "code",
   "execution_count": null,
   "id": "f1b9d3f7-7f41-4d47-9233-69a12e973342",
   "metadata": {
    "tags": []
   },
   "outputs": [],
   "source": [
    "scored.show()"
   ]
  },
  {
   "cell_type": "code",
   "execution_count": null,
   "id": "87d396a7-60b7-4436-a39a-551fe4a2e9c7",
   "metadata": {
    "tags": []
   },
   "outputs": [],
   "source": [
    "# ocena wartosci progowej\n",
    "def crossTabs(scored, t):\n",
    "    return scored.selectExpr(f\"score >= {t} as above\", \"is_match\")\\\n",
    "    .groupBy(\"above\").pivot(\"is_match\",(\"true\",\"false\"))\\\n",
    "    .count()"
   ]
  },
  {
   "cell_type": "code",
   "execution_count": null,
   "id": "9113d0cd-821b-4ddd-9d65-cf9f6b3c9bb7",
   "metadata": {
    "tags": []
   },
   "outputs": [],
   "source": [
    "crossTabs(scored, 4.0).show()"
   ]
  },
  {
   "cell_type": "code",
   "execution_count": null,
   "id": "1a2b8629-5751-4546-9463-dd024e9cd396",
   "metadata": {
    "tags": []
   },
   "outputs": [],
   "source": [
    "crossTabs(scored, 2.0).show()"
   ]
  },
  {
   "cell_type": "code",
   "execution_count": null,
   "id": "359d7129-a7ae-4f48-9104-b33555022b8e",
   "metadata": {},
   "outputs": [],
   "source": []
  },
  {
   "cell_type": "code",
   "execution_count": null,
   "id": "2feff567-95be-468a-b094-c06584b09455",
   "metadata": {},
   "outputs": [],
   "source": []
  },
  {
   "cell_type": "code",
   "execution_count": null,
   "id": "bc3eca59-45ec-4f32-8fc4-a5382ba3bbf7",
   "metadata": {},
   "outputs": [],
   "source": []
  }
 ],
 "metadata": {
  "kernelspec": {
   "display_name": "Python 3 (ipykernel)",
   "language": "python",
   "name": "python3"
  },
  "language_info": {
   "codemirror_mode": {
    "name": "ipython",
    "version": 3
   },
   "file_extension": ".py",
   "mimetype": "text/x-python",
   "name": "python",
   "nbconvert_exporter": "python",
   "pygments_lexer": "ipython3",
   "version": "3.11.6"
  }
 },
 "nbformat": 4,
 "nbformat_minor": 5
}
