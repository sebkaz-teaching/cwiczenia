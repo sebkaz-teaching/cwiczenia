{
 "cells": [
  {
   "cell_type": "markdown",
   "id": "0b2216a5",
   "metadata": {},
   "source": [
    "## Excercises"
   ]
  },
  {
   "cell_type": "markdown",
   "id": "b1f175a2",
   "metadata": {},
   "source": [
    "1. Load data from the `train.csv` file and put it into the panda's data frame"
   ]
  },
  {
   "cell_type": "code",
   "execution_count": null,
   "id": "460e0dd0",
   "metadata": {},
   "outputs": [],
   "source": [
    "## YOUR CODE HERE\n",
    "df = "
   ]
  },
  {
   "cell_type": "markdown",
   "id": "530014da",
   "metadata": {},
   "source": [
    "2. Show number of row and number of columns "
   ]
  },
  {
   "cell_type": "code",
   "execution_count": null,
   "id": "46593bad",
   "metadata": {},
   "outputs": [],
   "source": [
    "## YOUR CODE HERE\n"
   ]
  },
  {
   "cell_type": "markdown",
   "id": "214bb054",
   "metadata": {},
   "source": [
    "Perform missing data handling:\n",
    "\n",
    "1. Option 1 - remove rows containing missing data (`dropna()`)\n",
    "2. Option 2 - remove columns containing missing data (`drop()`)\n",
    "3. Option 3 - perform imputation using mean values (`fillna()`)\n",
    "\n",
    "Which columns did you choose for each option and why?"
   ]
  },
  {
   "cell_type": "code",
   "execution_count": null,
   "id": "86d90bad",
   "metadata": {},
   "outputs": [],
   "source": [
    "## YOUR CODE HERE\n"
   ]
  },
  {
   "cell_type": "markdown",
   "id": "531c074a",
   "metadata": {},
   "source": [
    "4. Using the `nunique()` method, remove columns that are not suitable for modeling."
   ]
  },
  {
   "cell_type": "code",
   "execution_count": null,
   "id": "3b449c52",
   "metadata": {},
   "outputs": [],
   "source": [
    "## YOUR CODE HERE\n"
   ]
  },
  {
   "cell_type": "markdown",
   "id": "1b24e5e0",
   "metadata": {},
   "source": [
    "5. Convert categorical variables using LabelEncoder into numerical form."
   ]
  },
  {
   "cell_type": "code",
   "execution_count": null,
   "id": "92dd860b",
   "metadata": {},
   "outputs": [],
   "source": [
    "from sklearn.preprocessing import LabelEncoder\n",
    "le = LabelEncoder()\n",
    "## YOUR CODE HERE"
   ]
  },
  {
   "cell_type": "markdown",
   "id": "ac8ef372",
   "metadata": {},
   "source": [
    "6. Utilize `MinMaxScaler` to transform floating-point data to a common scale"
   ]
  },
  {
   "cell_type": "code",
   "execution_count": null,
   "id": "d42c7f20",
   "metadata": {},
   "outputs": [],
   "source": [
    "from sklearn.preprocessing import MinMaxScaler\n",
    "\n",
    "## YOUR CODE HERE\n"
   ]
  },
  {
   "cell_type": "markdown",
   "id": "34f3c95e",
   "metadata": {},
   "source": [
    "7. Split the data into training set (80%) and test set (20%)"
   ]
  },
  {
   "cell_type": "code",
   "execution_count": null,
   "id": "68c0c105",
   "metadata": {},
   "outputs": [],
   "source": [
    "from sklearn.model_selection import train_test_split\n",
    "## YOUR CODE HERE\n",
    "X_train, X_test, y_train, y_test = train_test_split(...., random_state=44)"
   ]
  },
  {
   "cell_type": "markdown",
   "id": "7fa5d815",
   "metadata": {},
   "source": [
    "8. Using mapping, you can classify each passenger. The `run()` function requires providing a classifier for a single case.\n",
    "   - Write a classifier that assigns a value of 0 or 1 randomly (you can use the `random.randint(0,1)` function).\n",
    "   - Execute the `evaluate()` function and check how well the random classifier performs.\""
   ]
  },
  {
   "cell_type": "code",
   "execution_count": null,
   "id": "5511a311",
   "metadata": {},
   "outputs": [],
   "source": [
    "classify = ..."
   ]
  },
  {
   "cell_type": "code",
   "execution_count": null,
   "id": "3f18c17c",
   "metadata": {},
   "outputs": [],
   "source": [
    "def run(f_classify, x):\n",
    "    return list(map(f_classify, x))\n",
    "\n",
    "def evaluate(predictions, actual):\n",
    "    correct = list(filter(\n",
    "        lambda item: item[0] == item[1],\n",
    "        list(zip(predictions, actual))\n",
    "    ))\n",
    "    return f\"{len(correct)} correct answers from {len(actual)}. Accuracy ({len(correct)/len(actual)*100:.0f}%)\""
   ]
  },
  {
   "cell_type": "code",
   "execution_count": null,
   "id": "df7502fa",
   "metadata": {},
   "outputs": [],
   "source": [
    "evaluate(run(classify, X_train.values), y_train.values)"
   ]
  }
 ],
 "metadata": {
  "language_info": {
   "name": "python"
  }
 },
 "nbformat": 4,
 "nbformat_minor": 5
}
