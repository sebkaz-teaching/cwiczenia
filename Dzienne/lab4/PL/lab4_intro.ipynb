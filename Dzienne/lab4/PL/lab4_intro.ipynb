{
 "cells": [
  {
   "cell_type": "markdown",
   "id": "0d9e7c56",
   "metadata": {},
   "source": [
    "# ZADANIE\n",
    "\n",
    "1. Załaduj plik z danymi `train.csv` do pandasowej ramki danych o nazwie df"
   ]
  },
  {
   "cell_type": "code",
   "execution_count": null,
   "id": "9fb37d6e",
   "metadata": {},
   "outputs": [],
   "source": [
    "## YOUR CODE HERE\n",
    "df = "
   ]
  },
  {
   "cell_type": "markdown",
   "id": "58691753",
   "metadata": {},
   "source": [
    "2. Wypisz liczbę wierszy i kolumn załadowanej ramki "
   ]
  },
  {
   "cell_type": "code",
   "execution_count": null,
   "id": "334d00bb",
   "metadata": {},
   "outputs": [],
   "source": [
    "## YOUR CODE HERE"
   ]
  },
  {
   "cell_type": "markdown",
   "id": "3fa2c6df",
   "metadata": {},
   "source": [
    "3. Dokonaj czyszczenia braków danych:\n",
    "    - opcja 1 - usuń wiersze zawierające brak danych (`dropna()`)\n",
    "    - opcja 2 - usuń kolumny zawierające brak danych (`drop()`)\n",
    "    - opcja 3 - dokonaj imputacji za pomocą wartości średniej (`fillna()`)\n",
    "\n",
    "Które kolumny wybrałeś(aś) do realizacji poszczególnej opcji i dlaczego? "
   ]
  },
  {
   "cell_type": "code",
   "execution_count": null,
   "id": "6517bb53",
   "metadata": {},
   "outputs": [],
   "source": [
    "## YOUR CODE HERE"
   ]
  },
  {
   "cell_type": "markdown",
   "id": "393d4d31",
   "metadata": {},
   "source": [
    "4. Korzystając z metody `nunique()` usuń kolumny, które nie nadają się do modelowania."
   ]
  },
  {
   "cell_type": "code",
   "execution_count": null,
   "id": "42c19e9e",
   "metadata": {},
   "outputs": [],
   "source": [
    "## YOUR CODE HERE"
   ]
  },
  {
   "cell_type": "markdown",
   "id": "4601bd6d",
   "metadata": {},
   "source": [
    "5. Zamień zmienne kategoryjne z wykorzystaniem `LabelEncoder` na postać numeryczną"
   ]
  },
  {
   "cell_type": "code",
   "execution_count": null,
   "id": "446e409e",
   "metadata": {},
   "outputs": [],
   "source": [
    "from sklearn.preprocessing import LabelEncoder\n",
    "le = LabelEncoder()\n",
    "## YOUR CODE HERE"
   ]
  },
  {
   "cell_type": "markdown",
   "id": "771d108c",
   "metadata": {},
   "source": [
    "6. Wykorzystaj `MinMaxScaler` do transformacji danych zmiennoprzecinkowych do wspólnej skali"
   ]
  },
  {
   "cell_type": "code",
   "execution_count": null,
   "id": "32f6a54d",
   "metadata": {},
   "outputs": [],
   "source": [
    "from sklearn.preprocessing import MinMaxScaler\n",
    "\n",
    "## YOUR CODE HERE"
   ]
  },
  {
   "cell_type": "markdown",
   "id": "5362b75a",
   "metadata": {},
   "source": [
    "7. Podziel dane na zbiór treningowy (0.8) i testowy (0.2)"
   ]
  },
  {
   "cell_type": "code",
   "execution_count": null,
   "id": "6687d1d3",
   "metadata": {},
   "outputs": [],
   "source": [
    "from sklearn.model_selection import train_test_split\n",
    "## YOUR CODE HERE\n",
    "X_train, X_test, y_train, y_test = train_test_split(...., random_state=44)"
   ]
  },
  {
   "cell_type": "markdown",
   "id": "33608f09",
   "metadata": {},
   "source": [
    "8. Wykorzystując mapowanie możesz dla każdego pasażera przeprowadzić klasyfikację. Funkcja `run()` wymaga podania klasyfikatora dla pojedynczego przypadku.\n",
    "   - Napisz klasyfikator przypisujący wartość 0 lub 1 w sposób losowy (możesz wykorzystać funkcję `random.randint(0,1)`).\n",
    "   - Wykonaj fukncję `evaluate()` i sprawdź jak dobrze radzi sobie losowy klasyfikator. \n"
   ]
  },
  {
   "cell_type": "code",
   "execution_count": null,
   "id": "48791e1f",
   "metadata": {},
   "outputs": [],
   "source": [
    "classify = ..."
   ]
  },
  {
   "cell_type": "code",
   "execution_count": null,
   "id": "44951eb0",
   "metadata": {},
   "outputs": [],
   "source": [
    "def run(f_classify, x):\n",
    "    return list(map(f_classify, x))\n",
    "\n",
    "def evaluate(predictions, actual):\n",
    "    correct = list(filter(\n",
    "        lambda item: item[0] == item[1],\n",
    "        list(zip(predictions, actual))\n",
    "    ))\n",
    "    return f\"{len(correct)} poprawnych przewidywan z {len(actual)}. Accuracy ({len(correct)/len(actual)*100:.0f}%)\""
   ]
  },
  {
   "cell_type": "code",
   "execution_count": null,
   "id": "33d4d551",
   "metadata": {},
   "outputs": [],
   "source": [
    "evaluate(run(classify, X_train.values), y_train.values)"
   ]
  }
 ],
 "metadata": {
  "language_info": {
   "name": "python"
  }
 },
 "nbformat": 4,
 "nbformat_minor": 5
}
