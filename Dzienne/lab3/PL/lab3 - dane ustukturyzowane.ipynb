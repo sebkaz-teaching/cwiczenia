{
 "cells": [
  {
   "cell_type": "code",
   "execution_count": null,
   "id": "8c1e6f86-92df-43d9-bb94-b063629b312a",
   "metadata": {},
   "outputs": [],
   "source": [
    "# Remove warnings\n",
    "import warnings\n",
    "warnings.filterwarnings('ignore')"
   ]
  },
  {
   "cell_type": "markdown",
   "id": "a350d541-336c-4c1a-8565-b46a02bc0b93",
   "metadata": {},
   "source": [
    "# Dane ustrukturyzowane\n",
    "\n",
    "Dane klienta to pewne wartości, które możesz przypisać do zmiennych: \n",
    "np wiek: 42, wzrost: 178, pozyczka: 1000, zarobki: 5000, imię: Jan\n",
    "\n",
    "Zdefiniuj zmienne customer_1_{cecha} i przypisz im wartości z przykładu powyżej "
   ]
  },
  {
   "cell_type": "code",
   "execution_count": 1,
   "id": "279aac77-714b-4277-9c45-5f5586324d46",
   "metadata": {},
   "outputs": [],
   "source": [
    "# variables\n",
    "customer1_age = 38\n",
    "customer1_height = 178\n",
    "customer1_loan = 34.23\n",
    "customer1_name = 'Zajac'"
   ]
  },
  {
   "cell_type": "markdown",
   "id": "3986e0ca-ade7-4fdb-beb7-f0f8b940d421",
   "metadata": {},
   "source": [
    "> dlaczego do analizy danych nie używamy zmiennych? \n",
    "> Niezależnie od typu analizowanych i przetwarzanych danych w Pythonie możemy zebrać dane i reprezentować je jako pewna formy `listy`. "
   ]
  },
  {
   "cell_type": "code",
   "execution_count": 2,
   "id": "2e546eda-94a2-4bd2-9210-394247e1766e",
   "metadata": {},
   "outputs": [
    {
     "name": "stdout",
     "output_type": "stream",
     "text": [
      "[38, 'Divorced', 1, 56.3, ['', '', ''], {}]\n"
     ]
    }
   ],
   "source": [
    "# python lists\n",
    "customer = [38, 'Divorced', 1, 56.3, [\"\",\"\",\"\"], {}]\n",
    "print(customer)"
   ]
  },
  {
   "cell_type": "code",
   "execution_count": null,
   "id": "cdc0cb5a-fc11-498f-b8af-36e8a0b8c289",
   "metadata": {},
   "outputs": [],
   "source": [
    "# different types in one object\n",
    "type(customer)"
   ]
  },
  {
   "cell_type": "markdown",
   "id": "1e4707e6-8e56-4b6e-9fa3-6a4b1510b8d2",
   "metadata": {},
   "source": [
    "> dlaczego listy nie są najlepszym miejscem na przechowywanie danych?\n",
    "\n",
    "Weźmy dwie listy numeryczne"
   ]
  },
  {
   "cell_type": "code",
   "execution_count": null,
   "id": "04e0d32b-6484-4040-83b4-7bbd1c66dd21",
   "metadata": {},
   "outputs": [],
   "source": [
    "# dwie listy danych\n",
    "a = [1,2,3]\n",
    "b = [4,5,6]"
   ]
  },
  {
   "cell_type": "markdown",
   "id": "ef552645-b5dc-4e85-a2f6-07f24c810c02",
   "metadata": {},
   "source": [
    "Typowe operacje na listach w analizach danych"
   ]
  },
  {
   "cell_type": "code",
   "execution_count": null,
   "id": "593e61d6-8c7b-4168-979e-91a558d4bc33",
   "metadata": {},
   "outputs": [],
   "source": [
    "# dodawanie list\n",
    "print(f\"a+b: {a+b}\")\n",
    "# można też użyć metody format\n",
    "print(\"a+b: {}\".format(a+b))"
   ]
  },
  {
   "cell_type": "code",
   "execution_count": null,
   "id": "0ab18b16-1ee9-42b1-8f2c-9bbe6da4d8c6",
   "metadata": {},
   "outputs": [],
   "source": [
    "# mnożenie list\n",
    "try:\n",
    "    print(a*b)\n",
    "except TypeError:\n",
    "    print(\"no-defined operation\")"
   ]
  },
  {
   "cell_type": "code",
   "execution_count": null,
   "id": "dbfa5301-c73d-4668-aef0-94203782940e",
   "metadata": {},
   "outputs": [],
   "source": [
    "def iloczyn_skalarny_lista(x: list, y: list) -> float: \n",
    "    iloczyn = 0.\n",
    "    for i in range(len(x)):\n",
    "        iloczyn += x[i] * y[i]\n",
    "    return iloczyn"
   ]
  },
  {
   "cell_type": "code",
   "execution_count": null,
   "id": "29118fcf-b8ec-49bf-b643-f52b314c7b0b",
   "metadata": {},
   "outputs": [],
   "source": [
    "a = list(range(1000))\n",
    "b = list(range(1000))\n",
    "\n",
    "%timeit iloczyn_skalarny_lista(a, b)"
   ]
  },
  {
   "cell_type": "code",
   "execution_count": null,
   "id": "2bebe2bd-b867-454b-b948-c7a748f4afb2",
   "metadata": {},
   "outputs": [],
   "source": [
    "import numpy as np\n",
    "def iloczyn_skalarny_numpy(x, w):\n",
    "    return x.dot(w)\n",
    "    \n",
    "a = np.arange(1000)\n",
    "b = np.arange(1000)\n",
    "\n",
    "%timeit iloczyn_skalarny_numpy(a, b)"
   ]
  },
  {
   "cell_type": "markdown",
   "id": "7a672eb1-9e1c-4f9a-baa4-94f4cf7beb05",
   "metadata": {},
   "source": [
    "Każdy obiekt pythonowy można rozszerzyć o nowe metody i atrybuty."
   ]
  },
  {
   "cell_type": "code",
   "execution_count": null,
   "id": "49032369-15bc-456a-8cc8-7dc2604199ae",
   "metadata": {},
   "outputs": [],
   "source": [
    "import numpy as np\n",
    "aa = np.array(a)\n",
    "bb = np.array(b)\n",
    "\n",
    "print(aa,bb)"
   ]
  },
  {
   "cell_type": "code",
   "execution_count": null,
   "id": "badebea6-4b51-4860-b40e-1d565ff7d8f7",
   "metadata": {},
   "outputs": [],
   "source": [
    "print(f\"aa+bb: {aa+bb}\")\n",
    "# dodawanie działa\n",
    "try:\n",
    "    print(\"=\"*50)\n",
    "    print(aa*bb)\n",
    "    print(\"aa*bb - czy to poprawne mnożenie?\")\n",
    "    print(np.dot(aa,bb))\n",
    "    print(\"np.dot - a czy otrzymany wynik też realizuje poprawne mnożenie?\")\n",
    "except TypeError:\n",
    "    print(\"no-defined operation\")\n",
    "# mnożenie również działa"
   ]
  },
  {
   "cell_type": "code",
   "execution_count": null,
   "id": "f4d0fd00-b2d6-46be-96b3-4ca8aa9eead5",
   "metadata": {},
   "outputs": [],
   "source": [
    "# własności tablic\n",
    "x = np.array(range(4))\n",
    "print(x)\n",
    "x.shape"
   ]
  },
  {
   "cell_type": "code",
   "execution_count": null,
   "id": "990a15fc-a194-4060-898b-deaa1f5aaa07",
   "metadata": {},
   "outputs": [],
   "source": [
    "A = np.array([range(4),range(4)])\n",
    "# transposition  row i -> column j, column j -> row i \n",
    "A.T"
   ]
  },
  {
   "cell_type": "code",
   "execution_count": null,
   "id": "268ba5fa-5a3b-4835-928c-7978e3bf6cbe",
   "metadata": {},
   "outputs": [],
   "source": [
    "# 0-dim object\n",
    "scalar = np.array(5)\n",
    "print(f\"scalar object dim: {scalar.ndim}\")\n",
    "# 1-dim object\n",
    "vector_1d = np.array([3, 5, 7])\n",
    "print(f\"vector object dim: {vector_1d.ndim}\")\n",
    "# 2 rows for 3 features\n",
    "matrix_2d = np.array([[1,2,3],[3,4,5]])\n",
    "print(f\"matrix object dim: {matrix_2d.ndim}\")"
   ]
  },
  {
   "cell_type": "markdown",
   "id": "18ca3246-d9d6-4a03-bda3-dc91726c6a7f",
   "metadata": {},
   "source": [
    "<img src=\"tensory.png\">\n",
    "\n",
    "\n",
    "[Kurs Numpy ze strony Sebastiana Raschki](https://sebastianraschka.com/blog/2020/numpy-intro.html)\n",
    "\n",
    "\n",
    "## PyTorch \n",
    "\n",
    "[PyTorch](https://pytorch.org) is an open-source Python-based deep learning library. \n",
    "PyTorch has been the most widely used deep learning library for research since 2019 by a wide margin. In short, for many practitioners and researchers, PyTorch offers just the right balance between usability and features.\n",
    "\n",
    "1. PyTorch is a tensor library that extends the concept of array-oriented programming library NumPy with the additional feature of accelerated computation on GPUs, thus providing a seamless switch between CPUs and GPUs.\n",
    "\n",
    "2. PyTorch is an automatic differentiation engine, also known as autograd, which enables the automatic computation of gradients for tensor operations, simplifying backpropagation and model optimization.\n",
    "\n",
    "3. PyTorch is a deep learning library, meaning that it offers modular, flexible, and efficient building blocks (including pre-trained models, loss functions, and optimizers) for designing and training a wide range of deep learning models, catering to both researchers and developers.\n"
   ]
  },
  {
   "cell_type": "code",
   "execution_count": null,
   "id": "ed23ae64-9688-42f7-9c22-2d0a02313453",
   "metadata": {},
   "outputs": [],
   "source": [
    "import torch"
   ]
  },
  {
   "cell_type": "code",
   "execution_count": null,
   "id": "d815098f-1142-487d-b14f-5b397f2a4b92",
   "metadata": {},
   "outputs": [],
   "source": [
    "torch.cuda.is_available()"
   ]
  },
  {
   "cell_type": "code",
   "execution_count": null,
   "id": "14515fc6-0af4-4535-842d-30cfbd3b6876",
   "metadata": {},
   "outputs": [],
   "source": [
    "tensor0d = torch.tensor(1) \n",
    "tensor1d = torch.tensor([1, 2, 3])\n",
    "tensor2d = torch.tensor([[1, 2, 2], [3, 4, 5]])\n",
    "tensor3d = torch.tensor([[[1, 2], [3, 4]], [[5, 6], [7, 8]]])"
   ]
  },
  {
   "cell_type": "code",
   "execution_count": null,
   "id": "c9c181d9-c0ba-44f1-a735-6fee6779a73d",
   "metadata": {},
   "outputs": [],
   "source": [
    "print(tensor1d.dtype)"
   ]
  },
  {
   "cell_type": "code",
   "execution_count": null,
   "id": "b0ab917d-9ca9-4351-8351-d96dfb3e5fe9",
   "metadata": {},
   "outputs": [],
   "source": [
    "torch.tensor([1.0, 2.0, 3.0]).dtype"
   ]
  },
  {
   "cell_type": "code",
   "execution_count": null,
   "id": "5fe4acd6-1f09-4ac0-b17d-a124dd568b7a",
   "metadata": {},
   "outputs": [],
   "source": [
    "tensor2d"
   ]
  },
  {
   "cell_type": "code",
   "execution_count": null,
   "id": "f8931564-ba52-449b-9aba-b35b5d45d531",
   "metadata": {},
   "outputs": [],
   "source": [
    "tensor2d.shape"
   ]
  },
  {
   "cell_type": "code",
   "execution_count": null,
   "id": "71cb2ecb-48cd-4a61-986c-addf17ae6e1d",
   "metadata": {},
   "outputs": [],
   "source": [
    "print(tensor2d.reshape(3, 2))"
   ]
  },
  {
   "cell_type": "code",
   "execution_count": null,
   "id": "a8441192-9c43-48ab-aeca-588f8e26e60f",
   "metadata": {},
   "outputs": [],
   "source": [
    "print(tensor2d.T)"
   ]
  },
  {
   "cell_type": "code",
   "execution_count": null,
   "id": "37ba68ee-093c-43c3-aae4-538e42aa706c",
   "metadata": {},
   "outputs": [],
   "source": [
    "print(tensor2d.matmul(tensor2d.T))"
   ]
  },
  {
   "cell_type": "code",
   "execution_count": null,
   "id": "ca80ca4d-46f4-4fc7-9ea3-f112990f98e8",
   "metadata": {},
   "outputs": [],
   "source": [
    "print(tensor2d @ tensor2d.T)"
   ]
  },
  {
   "cell_type": "markdown",
   "id": "27a4c0bd-6e22-49a5-a5aa-f22d490313fd",
   "metadata": {},
   "source": [
    "szczegółowe info znajdziesz w [dokumentacji](https://pytorch.org/docs/stable/tensors.html)\n",
    "\n",
    "## Modelowanie danych ustrukturyzowanych\n",
    "\n",
    "Rozważmy jedną zmienną (`xs`) od której zależy nasza zmienna wynikowa (`ys` - target).\n",
    "```python\n",
    "xs = np.array([-1,0,1,2,3,4])\n",
    "ys = np.array([-3,-1,1,3,5,7])\n",
    "```\n",
    "\n",
    "\n",
    "Modelem który możemy zastosować jest regresja liniowa."
   ]
  },
  {
   "cell_type": "code",
   "execution_count": null,
   "id": "2a257e61-19e1-4ee0-acd2-cbf9ab49c71b",
   "metadata": {},
   "outputs": [],
   "source": [
    "# Regresja liniowa \n",
    "\n",
    "import numpy as np\n",
    "from sklearn.linear_model import LinearRegression\n",
    "\n",
    "xs = np.array([-1,0,1,2,3,4])\n",
    "# a raczej \n",
    "xs = xs.reshape(-1, 1)\n",
    "\n",
    "ys = np.array([-3, -1, 1, 3, 5, 7])\n",
    "\n",
    "reg = LinearRegression()\n",
    "model = reg.fit(xs,ys)\n",
    "\n",
    "print(f\"solution: x1={model.coef_[0]}, x0={reg.intercept_}\")\n",
    "\n",
    "model.predict(np.array([[1],[5]]))"
   ]
  },
  {
   "cell_type": "markdown",
   "id": "fb2ebb30-8ce1-468a-aa8c-53f5cac66558",
   "metadata": {},
   "source": [
    "Prosty kod realizuje w pełni nasze zadanie znalezienia modelu regresji liniowej. \n",
    "\n",
    "Do czego może nam posłużyc tak wygenerowany model? \n",
    "\n",
    "Aby z niego skorzystac potrzebujemy wyeksportować go do pliku."
   ]
  },
  {
   "cell_type": "code",
   "execution_count": null,
   "id": "0a2521b4-fa58-4957-914a-6b55ed3a4223",
   "metadata": {},
   "outputs": [],
   "source": [
    "# save model\n",
    "import pickle\n",
    "with open('model.pkl', \"wb\") as picklefile:\n",
    "    pickle.dump(model, picklefile)"
   ]
  },
  {
   "cell_type": "markdown",
   "id": "ae94404c-a685-4e13-98e2-f8bfa8b73cb8",
   "metadata": {},
   "source": [
    "Teraz możemy go zaimportować (np na Github) i wykorzystać w innych projektach. "
   ]
  },
  {
   "cell_type": "code",
   "execution_count": null,
   "id": "9a92598f-8384-4c79-9bd8-e24d077fb350",
   "metadata": {},
   "outputs": [],
   "source": [
    "# load model\n",
    "with open('model.pkl',\"rb\") as picklefile:\n",
    "    mreg = pickle.load(picklefile)"
   ]
  },
  {
   "cell_type": "markdown",
   "id": "fb6efd44-b406-4906-856c-03d5f01eacfb",
   "metadata": {},
   "source": [
    "Ale !!! pamiętaj o odtworzeniu środowiska Pythonowego"
   ]
  },
  {
   "cell_type": "code",
   "execution_count": null,
   "id": "2fc588d3-5277-49b6-895a-3076d6e71032",
   "metadata": {},
   "outputs": [],
   "source": [
    "mreg.predict(xs)"
   ]
  },
  {
   "cell_type": "markdown",
   "id": "bf115f1a-c7a7-4be9-a04b-9a5ca9d119ee",
   "metadata": {},
   "source": [
    "## Inne sposoby pozyskiwania danych \n",
    "\n",
    "1. Gotowe źródła w bibliotekach pythonowych\n",
    "2. Dane z plików zewnętrznych (np. csv, json, txt) z lokalnego dysku lub z internetu\n",
    "3. Dane z bazy danych (np. MySQL, PostgreSQL, MongoDB)\n",
    "4. Dane generowane w sposób sztuczny pod wybrany problem modelowy. \n",
    "5. Strumienie danych "
   ]
  },
  {
   "cell_type": "code",
   "execution_count": null,
   "id": "72aa3137-7a66-4365-950c-85b2fa35cb1d",
   "metadata": {},
   "outputs": [],
   "source": [
    "from sklearn.datasets import load_iris\n",
    "\n",
    "iris = load_iris()"
   ]
  },
  {
   "cell_type": "code",
   "execution_count": null,
   "id": "581af7eb-3b83-462c-a561-e1c965c8c32a",
   "metadata": {},
   "outputs": [],
   "source": [
    "# find all keys\n",
    "iris.keys()"
   ]
  },
  {
   "cell_type": "code",
   "execution_count": null,
   "id": "fe2f9243-0fce-42ad-8555-4d6b457722fc",
   "metadata": {},
   "outputs": [],
   "source": [
    "# print description\n",
    "print(iris.DESCR)"
   ]
  },
  {
   "cell_type": "code",
   "execution_count": null,
   "id": "66ca8526-4966-4f25-8465-0056132c1bb4",
   "metadata": {},
   "outputs": [],
   "source": [
    "import pandas as pd\n",
    "import numpy as np\n",
    "\n",
    "# create DataFrame\n",
    "df = pd.DataFrame(data= np.c_[iris['data'], iris['target']],\n",
    "                  columns= iris['feature_names'] + ['target'])"
   ]
  },
  {
   "cell_type": "code",
   "execution_count": null,
   "id": "ef13df85-4b3d-40e9-8c60-17c8f068bb0e",
   "metadata": {},
   "outputs": [],
   "source": [
    "# show last\n",
    "df.tail(10)"
   ]
  },
  {
   "cell_type": "code",
   "execution_count": null,
   "id": "9c44dbc9-f487-4dc5-99f5-8da73b2b8014",
   "metadata": {},
   "outputs": [],
   "source": [
    "# show info about NaN values and a type of each column.\n",
    "df.info()"
   ]
  },
  {
   "cell_type": "code",
   "execution_count": null,
   "id": "5e337019-1539-47d4-afde-2c6dd3626b3d",
   "metadata": {},
   "outputs": [],
   "source": [
    "# statistics\n",
    "df.describe()"
   ]
  },
  {
   "cell_type": "code",
   "execution_count": null,
   "id": "668f2307-464e-4d84-8564-dfe1c405f4a0",
   "metadata": {},
   "outputs": [],
   "source": [
    "# new features\n",
    "df['species'] = pd.Categorical.from_codes(iris.target, iris.target_names)"
   ]
  },
  {
   "cell_type": "code",
   "execution_count": null,
   "id": "01be30f7-d43f-4d33-beed-43bf6f15ff19",
   "metadata": {},
   "outputs": [],
   "source": [
    "# remove features (columns) \n",
    "df = df.drop(columns=['target'])\n",
    "# filtering first 100 rows and 4'th column"
   ]
  },
  {
   "cell_type": "code",
   "execution_count": null,
   "id": "2d3b10cc-f96b-4797-9311-f779889a2d8c",
   "metadata": {},
   "outputs": [],
   "source": [
    "import seaborn as sns\n",
    "import matplotlib.pyplot as plt\n",
    "sns.set(style=\"whitegrid\", palette=\"husl\")\n",
    "\n",
    "iris_melt = pd.melt(df, \"species\", var_name=\"measurement\")\n",
    "f, ax = plt.subplots(1, figsize=(15,9))\n",
    "sns.stripplot(x=\"measurement\", y=\"value\", hue=\"species\", data=iris_melt, jitter=True, edgecolor=\"white\", ax=ax)"
   ]
  },
  {
   "cell_type": "code",
   "execution_count": null,
   "id": "cdc37402-9ab2-4baf-8b3a-138fa676fb73",
   "metadata": {},
   "outputs": [],
   "source": [
    "X = df.iloc[:100,[0,2]].values\n",
    "y = df.iloc[0:100,4].values"
   ]
  },
  {
   "cell_type": "code",
   "execution_count": null,
   "id": "d3beeaf7-d407-43ee-b514-8d261acfba43",
   "metadata": {},
   "outputs": [],
   "source": [
    "y = np.where(y == 'setosa',-1,1)"
   ]
  },
  {
   "cell_type": "code",
   "execution_count": null,
   "id": "5a8c8511-265b-4b3b-936d-01eb2b9579b9",
   "metadata": {},
   "outputs": [],
   "source": [
    "plt.scatter(X[:50,0],X[:50,1],color='red', marker='o',label='setosa')\n",
    "plt.scatter(X[50:100,0],X[50:100,1],color='blue', marker='x',label='versicolor')\n",
    "plt.xlabel('sepal length (cm)')\n",
    "plt.ylabel('petal length (cm)')\n",
    "plt.legend(loc='upper left')\n",
    "plt.show()"
   ]
  },
  {
   "cell_type": "markdown",
   "id": "ec19c436-c4d4-456b-bc08-b4fe1f094011",
   "metadata": {},
   "source": [
    "Dla tego typu danych separowalnych liniowo użyj modelu regresji logistycznej lub sieci neuronowej."
   ]
  },
  {
   "cell_type": "code",
   "execution_count": null,
   "id": "70dc5c6c-5c40-44ae-8ede-58fe317d0d2e",
   "metadata": {},
   "outputs": [],
   "source": [
    "from sklearn.linear_model import Perceptron\n",
    "\n",
    "per_clf = Perceptron()\n",
    "per_clf.fit(X,y)\n",
    "\n",
    "y_pred = per_clf.predict([[2, 0.5],[4,5.5]])\n",
    "y_pred"
   ]
  },
  {
   "cell_type": "markdown",
   "id": "6800ea37-38e6-4f45-a80f-a0498f1b68ce",
   "metadata": {},
   "source": [
    "## Zapis danych i podłączenie do prostej bazy SQL "
   ]
  },
  {
   "cell_type": "code",
   "execution_count": null,
   "id": "ffee7466-cd7a-48d8-939d-ee6f29e2f323",
   "metadata": {},
   "outputs": [],
   "source": [
    "IRIS_PATH = \"https://archive.ics.uci.edu/ml/machine-learning-databases/iris/iris.data\"\n",
    "col_names = [\"sepal_length\", \"sepal_width\", \"petal_length\", \"petal_width\", \"class\"]\n",
    "df = pd.read_csv(IRIS_PATH, names=col_names)"
   ]
  },
  {
   "cell_type": "code",
   "execution_count": null,
   "id": "e445ebef-6ef4-41fc-b502-31389bd0f637",
   "metadata": {},
   "outputs": [],
   "source": [
    "# save to sqlite\n",
    "import sqlite3\n",
    "# generate database\n",
    "conn = sqlite3.connect(\"iris.db\")\n",
    "# pandas to_sql\n",
    "\n",
    "try:\n",
    "    df.to_sql(\"iris\", conn, index=False)\n",
    "except:\n",
    "    print(\"tabela już istnieje\")"
   ]
  },
  {
   "cell_type": "code",
   "execution_count": null,
   "id": "31585eec-b77c-4cb3-a92c-3a661a413c23",
   "metadata": {},
   "outputs": [],
   "source": [
    "# sql to pandas\n",
    "result = pd.read_sql(\"SELECT * FROM iris WHERE sepal_length > 5\", conn)"
   ]
  },
  {
   "cell_type": "code",
   "execution_count": null,
   "id": "ce3c6bcb-e152-45ac-ae24-cdef81336cb9",
   "metadata": {},
   "outputs": [],
   "source": [
    "result.head(3)"
   ]
  },
  {
   "cell_type": "code",
   "execution_count": null,
   "id": "c8ab81a8-72cf-4a14-8ad4-1c63f95da88a",
   "metadata": {},
   "outputs": [],
   "source": [
    "# Dane sztucznie generowane\n",
    "from sklearn import datasets\n",
    "X, y = datasets.make_classification(n_samples=10**4,\n",
    "n_features=20, n_informative=2, n_redundant=2)\n",
    "\n",
    "\n",
    "from sklearn.ensemble import RandomForestClassifier\n",
    "\n",
    "\n",
    "# podział na zbiór treningowy i testowy\n",
    "train_samples = 7000 # 70% danych treningowych\n",
    "\n",
    "X_train = X[:train_samples]\n",
    "X_test = X[train_samples:]\n",
    "y_train = y[:train_samples]\n",
    "y_test = y[train_samples:]\n",
    "\n",
    "rfc = RandomForestClassifier()\n",
    "rfc.fit(X_train, y_train)"
   ]
  },
  {
   "cell_type": "code",
   "execution_count": null,
   "id": "f81e6c44-fb97-4349-b3b4-e417fd113b3a",
   "metadata": {},
   "outputs": [],
   "source": [
    "rfc.predict(X_train[0].reshape(1, -1))"
   ]
  }
 ],
 "metadata": {
  "kernelspec": {
   "display_name": "Python 3 (ipykernel)",
   "language": "python",
   "name": "python3"
  },
  "language_info": {
   "codemirror_mode": {
    "name": "ipython",
    "version": 3
   },
   "file_extension": ".py",
   "mimetype": "text/x-python",
   "name": "python",
   "nbconvert_exporter": "python",
   "pygments_lexer": "ipython3",
   "version": "3.11.6"
  }
 },
 "nbformat": 4,
 "nbformat_minor": 5
}
