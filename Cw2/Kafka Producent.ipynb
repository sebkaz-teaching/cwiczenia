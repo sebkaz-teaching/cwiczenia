{
 "cells": [
  {
   "cell_type": "markdown",
   "id": "64f1864a-d95e-471d-b4dc-6a3fb9d4c70e",
   "metadata": {},
   "source": [
    "**Wersja z dostępem do środowiska**\n",
    "\n",
    "Tę wersję ćwiczeń można przejść, posiadając nowy obraz Dockerowy i uruchomiony Docker Desktop na własnym komputerze. Jak również na środowisku SGH. \n",
    "\n",
    "### 1️⃣ Uruchomienie środowiska\n",
    "Przejdź do przeglądarki i otwórz stronę ze środowiskiem (w przypadku Dockera otwórz `localhost:8888`).\n",
    "\n",
    "Uruchom **Jupyter Lab**, a następnie otwórz nowy terminal (za pomocą ikony terminala).\n",
    "\n",
    "### 2️⃣ Sprawdzenie katalogów i dostępności Kafki\n",
    "Przejdź do katalogu głównego i wypisz listę wszystkich elementów. Sprawdź, czy na liście znajduje się katalog `kafka`.\n",
    "```sh\n",
    "cd ~\n",
    "ls -la\n",
    "```\n",
    "\n",
    "### 3️⃣ Sprawdzenie listy topiców\n",
    "Uruchom polecenie sprawdzające listę topiców serwera Kafki:\n",
    "```sh\n",
    "kafka/bin/kafka-topics.sh --list --bootstrap-server broker:9092\n",
    "```\n",
    "\n",
    "### 4️⃣ Dodanie nowego topicu\n",
    "Dodaj topic o nazwie `streaming`:\n",
    "```sh\n",
    "kafka/bin/kafka-topics.sh --bootstrap-server broker:9092 --create --topic streaming\n",
    "```\n",
    "Sprawdź ponownie listę topiców, upewniając się, że `streaming` został dodany:\n",
    "```sh\n",
    "kafka/bin/kafka-topics.sh --list --bootstrap-server broker:9092 | grep streaming\n",
    "```\n",
    "\n",
    "### 5️⃣ Uruchomienie producenta w Pythonie\n",
    "W nowym terminalu utwórz plik `stream.py` i wklej poniższy kod:\n",
    "\n"
   ]
  },
  {
   "cell_type": "code",
   "execution_count": 1,
   "id": "7be8cfe9-a6b4-4ee4-a104-1e790be9dccf",
   "metadata": {},
   "outputs": [
    {
     "name": "stdout",
     "output_type": "stream",
     "text": [
      "Writing stream.py\n"
     ]
    }
   ],
   "source": [
    "%%file stream.py\n",
    "import json\n",
    "import random\n",
    "import sys\n",
    "from datetime import datetime, timedelta\n",
    "from time import sleep\n",
    "\n",
    "from kafka import KafkaProducer\n",
    "\n",
    "SERVER = \"broker:9092\"\n",
    "TOPIC = \"streaming\"\n",
    "\n",
    "if __name__ == \"__main__\":\n",
    "    \n",
    "    \n",
    "    producer = KafkaProducer(\n",
    "        bootstrap_servers=[SERVER],\n",
    "        value_serializer=lambda x: json.dumps(x).encode(\"utf-8\")\n",
    "    )\n",
    "    \n",
    "    try:\n",
    "        while True:\n",
    "            \n",
    "            message = {\n",
    "                # TWOJ KOD TUTAJ\n",
    "            }\n",
    "            producer.send(TOPIC, value=message)\n",
    "            sleep(1)\n",
    "    except KeyboardInterrupt:\n",
    "        producer.close()"
   ]
  },
  {
   "cell_type": "markdown",
   "id": "7b1e83cf-7044-42d0-88b4-a5c888b3af55",
   "metadata": {},
   "source": [
    "### 6️⃣ Uruchomienie konsumenta w konsoli\n",
    "Aby sprawdzić, czy wysyłanie wiadomości działa, otwórz kolejne okno terminala i uruchom konsumenta:\n",
    "```sh\n",
    "kafka/bin/kafka-console-consumer.sh --bootstrap-server broker:9092 --topic streaming --from-beginning\n",
    "```\n",
    "Teraz wszystkie wiadomości wysłane przez producenta powinny pojawić się w konsoli konsumenta.\n",
    "\n",
    "### 7️⃣ Zakończenie pracy\n",
    "Pamiętaj, aby uruchamiać komendy z odpowiedniego katalogu.\n",
    "Po zakończeniu ćwiczeń użyj `Ctrl+C`, aby zatrzymać zarówno producenta, jak i konsumenta.\n",
    "\n",
    "---\n",
    "Teraz masz podstawowe pojęcie o tym, jak działa Apache Kafka w połączeniu z Dockerem! 🚀\n"
   ]
  },
  {
   "cell_type": "code",
   "execution_count": null,
   "id": "4f1599d3-a355-4f10-97a9-eecb38750cc9",
   "metadata": {},
   "outputs": [],
   "source": []
  }
 ],
 "metadata": {
  "kernelspec": {
   "display_name": "Python 3 (ipykernel)",
   "language": "python",
   "name": "python3"
  },
  "language_info": {
   "codemirror_mode": {
    "name": "ipython",
    "version": 3
   },
   "file_extension": ".py",
   "mimetype": "text/x-python",
   "name": "python",
   "nbconvert_exporter": "python",
   "pygments_lexer": "ipython3",
   "version": "3.11.6"
  }
 },
 "nbformat": 4,
 "nbformat_minor": 5
}
