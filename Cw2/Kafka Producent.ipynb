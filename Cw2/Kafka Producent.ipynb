{
 "cells": [
  {
   "cell_type": "markdown",
   "id": "64f1864a-d95e-471d-b4dc-6a3fb9d4c70e",
   "metadata": {},
   "source": [
    "# Wersja z dostępem do środowiska\n",
    "\n",
    "Tą wersję można przejść również posiadając nowy obraz dockerowy i uruchomiony docker desktop na własnym komputerze.\n",
    "\n",
    "1. Przejdź do przeglądarki i uruchom stronę ze środowiskiem (w przypadku Docker uruchom `localhost:8888`).\n",
    "2. Uruchom (w jupyter lab za pomocą ikony terminala) nowy terminal\n",
    "\n",
    "3. Przejdź do katalogu głównego i wypisz listę wszystkich elementów. Sprawdź czy na liście znajduje się katalog `kafka`.\n",
    "\n",
    "   ```bash\n",
    "   cd ~\n",
    "   ls -all\n",
    "   ```\n",
    "4. Uruchom polecenie sprawdzające listę topiców serwera Kafki\n",
    "    ```bash\n",
    "    kafka/bin/kafka-topics.sh --list --bootstrap-server broker:9092\n",
    "    ```\n",
    "5. Dodaj topic o nazwie `streaming`+ nr grupy + nr Twojego srodowiska \n",
    "   ```bash\n",
    "   kafka/bin/kafka-topics.sh --bootstrap-server broker:9092 --create --topic streaming\n",
    "   ```\n",
    "6. Sprawdź listę tematów ponownie upewniając się, że posiadasz temat `streaming`\n",
    "\n",
    "Aby sprawdzić czy wysyłanie wiadomości działa uruchom kolejne okno terminala i wpisz następującą komendę realizującą konsumenta w konsoli: \n",
    "\n",
    "```bash\n",
    "kafka/bin/kafka-console-consumer.sh --bootstrap-server broker:9092 --topic streaming --from-beginning\n",
    "```\n",
    "> Pamiętaj aby uruchamiać komendy z odpowiedniego katalogu. \n",
    "7. Uzupełnij plik stream.py \n",
    "-  utwórz zmienną `message` zawierającą słownik z trzena kluczami\n",
    "   - time: - wyswietlający aktualny czas na podstawie datetime\n",
    "   - id: losowa wartość z listy [a,b,c,d,e,f]\n",
    "   - value: losowa wartość  liczbowa z zakresu 0-100\n"
   ]
  },
  {
   "cell_type": "code",
   "execution_count": null,
   "id": "7be8cfe9-a6b4-4ee4-a104-1e790be9dccf",
   "metadata": {},
   "outputs": [
    {
     "name": "stdout",
     "output_type": "stream",
     "text": [
      "Overwriting stream.py\n"
     ]
    }
   ],
   "source": [
    "%%file stream.py\n",
    "\n",
    "import json\n",
    "import random\n",
    "import sys\n",
    "from datetime import datetime\n",
    "from time import sleep\n",
    "\n",
    "from kafka import KafkaProducer\n",
    "\n",
    "if __name__ == \"__main__\":\n",
    "    SERVER = \"broker:9092\"\n",
    "    TOPIC = \"streaming\"\n",
    "\n",
    "    producer = KafkaProducer(\n",
    "        bootstrap_servers=[SERVER],\n",
    "        value_serializer=lambda x: json.dumps(x).encode(\"utf-8\"),\n",
    "    )\n",
    "    \n",
    "    try:\n",
    "        while True:\n",
    "            \n",
    "            ## Twoj kod \n",
    "\n",
    "            message = {\n",
    "\n",
    "            }\n",
    "            \n",
    "            \n",
    "            producer.send(TOPIC, value=message)\n",
    "            sleep(1)\n",
    "    except KeyboardInterrupt:\n",
    "        producer.close()"
   ]
  },
  {
   "cell_type": "code",
   "execution_count": null,
   "id": "1e053fc3-ebee-4565-afdd-ba12455bf52a",
   "metadata": {},
   "outputs": [],
   "source": []
  }
 ],
 "metadata": {
  "kernelspec": {
   "display_name": "Python 3 (ipykernel)",
   "language": "python",
   "name": "python3"
  },
  "language_info": {
   "codemirror_mode": {
    "name": "ipython",
    "version": 3
   },
   "file_extension": ".py",
   "mimetype": "text/x-python",
   "name": "python",
   "nbconvert_exporter": "python",
   "pygments_lexer": "ipython3",
   "version": "3.11.6"
  }
 },
 "nbformat": 4,
 "nbformat_minor": 5
}
